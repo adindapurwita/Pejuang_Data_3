{
  "nbformat": 4,
  "nbformat_minor": 0,
  "metadata": {
    "colab": {
      "name": "M1P1V2_Pengenalan_Python.ipynb",
      "provenance": [],
      "collapsed_sections": [],
      "authorship_tag": "ABX9TyMaTStQe/fzb9+AjCibdXbW",
      "include_colab_link": true
    },
    "kernelspec": {
      "name": "python3",
      "display_name": "Python 3"
    },
    "language_info": {
      "name": "python"
    }
  },
  "cells": [
    {
      "cell_type": "markdown",
      "metadata": {
        "id": "view-in-github",
        "colab_type": "text"
      },
      "source": [
        "<a href=\"https://colab.research.google.com/github/adindapurwita/Pejuang_Data_3/blob/main/M1P1V2_Pengenalan_Python.ipynb\" target=\"_parent\"><img src=\"https://colab.research.google.com/assets/colab-badge.svg\" alt=\"Open In Colab\"/></a>"
      ]
    },
    {
      "cell_type": "markdown",
      "metadata": {
        "id": "E8TVYn0zwaGj"
      },
      "source": [
        "# **Pengenalan** **Python**"
      ]
    },
    {
      "cell_type": "markdown",
      "metadata": {
        "id": "sqzalt2ywnS5"
      },
      "source": [
        "Python adalah Bahasa pemrograman tingkat tinggi dengan dynamic semantics, bersifat object oriented, dan interpretatif. Bahasa pemrograman ini fokus dikembangkan pada keterbacaan bahasa pemrograman.\n",
        "\n",
        "1.  **Bahasa Pemrograman Tingkat Tinggi (HIgh Level Programming)** Artinya sintaks kode lebih mudah ditafsirkan oleh manusia.\n",
        "2. **Inerpretatif** ini artinya bahasa ini memerlukan intrepenter atau penerjemah. Ini memungkinkan bagi kita untuk menggunakan Bahasa yang lebih mudah kita pahami.\n",
        "3. **Object Oriented** ini berarti bahwa bahasa pemrograman ini berorientasi kepada objek. Hal ini membuat Python lebih mudah untuk dikembangkan.\n",
        "4.**Dynmic Semantics** Python secara otomatis akan menyesuaikan tipe dari suatu variable berdasarkan inputnya.\n",
        "\n",
        "\n"
      ]
    },
    {
      "cell_type": "markdown",
      "metadata": {
        "id": "tnTHK1fsytQX"
      },
      "source": [
        "# **Mengapa Python?**"
      ]
    },
    {
      "cell_type": "markdown",
      "metadata": {
        "id": "Ob4h8Taoy--h"
      },
      "source": [
        "\n",
        "1. Mudah dipahami\n",
        "2. Gratis & Open Source\n",
        "3. Dinamis\n",
        "4. Memiliki Library Terlengkap untuk Data Sains"
      ]
    },
    {
      "cell_type": "markdown",
      "metadata": {
        "id": "QPKpj6MjzXXw"
      },
      "source": [
        "# **Struktur Program Pada Python**"
      ]
    },
    {
      "cell_type": "markdown",
      "metadata": {
        "id": "LsA5PeTvzj6P"
      },
      "source": [
        "Python pada umumnya terdiri dari:\n",
        "1. **Statements**"
      ]
    },
    {
      "cell_type": "code",
      "metadata": {
        "colab": {
          "base_uri": "https://localhost:8080/"
        },
        "id": "xKzlv9X-z1UQ",
        "outputId": "235cae26-4409-4fc0-ade7-65f1aa36b313"
      },
      "source": [
        "print(\"belajar Python menyenangkan\")\n",
        "print(\"halo dunia\")"
      ],
      "execution_count": null,
      "outputs": [
        {
          "output_type": "stream",
          "name": "stdout",
          "text": [
            "belajar Python menyenangkan\n",
            "halo dunia\n"
          ]
        }
      ]
    },
    {
      "cell_type": "markdown",
      "metadata": {
        "id": "S_qwbUJ80Kuf"
      },
      "source": [
        "2. **Variables**"
      ]
    },
    {
      "cell_type": "code",
      "metadata": {
        "id": "ilYyMYnZ0PA6"
      },
      "source": [
        "bilangan1 = 5\n",
        "bilangan2 = 10\n",
        "kalimat = \"Pejuang Data 3\""
      ],
      "execution_count": null,
      "outputs": []
    },
    {
      "cell_type": "markdown",
      "metadata": {
        "id": "U4dbmLnq0dtH"
      },
      "source": [
        "3. **Literals**: Simbol-simbol yang dapat kita gunakan untuk mengisi suatu variabel."
      ]
    },
    {
      "cell_type": "markdown",
      "metadata": {
        "id": "q5v-c3Eg01-p"
      },
      "source": [
        "4. **Operators**: Simbol-simbol yang dapat digunakan untuk mengubah nilai dari satu variabel dengan melibatkan satu atau lebih variabel dan literal."
      ]
    },
    {
      "cell_type": "code",
      "metadata": {
        "colab": {
          "base_uri": "https://localhost:8080/"
        },
        "id": "Ezb7MYI41NzP",
        "outputId": "0b4de233-c504-4326-b8b7-e195aae755da"
      },
      "source": [
        "bilangan1 + bilangan2"
      ],
      "execution_count": null,
      "outputs": [
        {
          "output_type": "execute_result",
          "data": {
            "text/plain": [
              "15"
            ]
          },
          "metadata": {},
          "execution_count": 4
        }
      ]
    },
    {
      "cell_type": "markdown",
      "metadata": {
        "id": "aWuO1rw41nEF"
      },
      "source": [
        "5. **Reserved** **Words**: Kumpulan kata-kata yang memiliki makna khusus dalam bahasa pemrograman Python. Kata False, return, dan for merupakan contoh dari reserved words.\n",
        "\n"
      ]
    },
    {
      "cell_type": "markdown",
      "metadata": {
        "id": "EZLdt9662ey8"
      },
      "source": [
        "6. **Whitespace**: Pada bahasa Python, spasi dan tab memiliki makna khusus untuk menandai serangkaian blok dalam kode Python"
      ]
    },
    {
      "cell_type": "markdown",
      "metadata": {
        "id": "6az6z9n84DKU"
      },
      "source": [
        "7. **Comments**: Comments merupakan sekumpulan teks yang dituliskan di dalam sebuah program yang tidak akan mempengaruhi hasil dari sebuah program."
      ]
    },
    {
      "cell_type": "markdown",
      "metadata": {
        "id": "--GA2OaN4Z1S"
      },
      "source": [
        "Terdapat dua jenis comment di dalam Python, yaitu:\n",
        "\n",
        "a.  **single line comment** (comments dalam satu baris) seperti pada contoh berikut:"
      ]
    },
    {
      "cell_type": "code",
      "metadata": {
        "colab": {
          "base_uri": "https://localhost:8080/"
        },
        "id": "MySIqri2439Q",
        "outputId": "2bbf034c-ce59-42db-f69c-d66395266370"
      },
      "source": [
        "# Ini adalah Comment\n",
        "print(\"belajar Python\")"
      ],
      "execution_count": null,
      "outputs": [
        {
          "output_type": "stream",
          "name": "stdout",
          "text": [
            "belajar Python\n"
          ]
        }
      ]
    },
    {
      "cell_type": "markdown",
      "metadata": {
        "id": "XsapDxyM9-p4"
      },
      "source": [
        "b. **multi line comment** (comments dalam beberapa baris) yang dapat dituliskan seperti pada contoh berikut:"
      ]
    },
    {
      "cell_type": "code",
      "metadata": {
        "colab": {
          "base_uri": "https://localhost:8080/"
        },
        "id": "bTYXOhb1-QE3",
        "outputId": "cece254c-a9d2-4187-bc93-8d2d1b06d60a"
      },
      "source": [
        "'''\n",
        "Ini adalah komentar panjang\n",
        "Bisa digunakan untuk memberikan penjelasan\n",
        "panjang pada Sell Kode Python,\n",
        "Misal dokumentasi program, spesifikasi\n",
        "input output atau lainnya\n",
        "'''\n",
        "print('Belajar Python menyenangkan')"
      ],
      "execution_count": null,
      "outputs": [
        {
          "output_type": "stream",
          "name": "stdout",
          "text": [
            "Belajar Python menyenangkan\n"
          ]
        }
      ]
    }
  ]
}
{
  "nbformat": 4,
  "nbformat_minor": 0,
  "metadata": {
    "colab": {
      "name": "M2P2V3_Konversi_Struktur_Data.ipynb",
      "provenance": [],
      "collapsed_sections": [],
      "authorship_tag": "ABX9TyNP9Uq16TpBUEIzyetFbAAh",
      "include_colab_link": true
    },
    "kernelspec": {
      "name": "python3",
      "display_name": "Python 3"
    },
    "language_info": {
      "name": "python"
    }
  },
  "cells": [
    {
      "cell_type": "markdown",
      "metadata": {
        "id": "view-in-github",
        "colab_type": "text"
      },
      "source": [
        "<a href=\"https://colab.research.google.com/github/adindapurwita/Pejuang_Data_3/blob/main/M2P2V3_Konversi_Struktur_Data.ipynb\" target=\"_parent\"><img src=\"https://colab.research.google.com/assets/colab-badge.svg\" alt=\"Open In Colab\"/></a>"
      ]
    },
    {
      "cell_type": "markdown",
      "metadata": {
        "id": "uHEt4dcfJ-1Z"
      },
      "source": [
        "\n",
        "# Konversi Struktur Data"
      ]
    },
    {
      "cell_type": "markdown",
      "metadata": {
        "id": "6cdOCjPnKEl-"
      },
      "source": [
        "Fungsi untuk mengubah/konversi struktur data:\n",
        "\n",
        "a. `list()` : untuk mengubah menjadi list\n",
        "\n",
        "b. `tuple()` : untuk mengubah menjadi tuple\n",
        "\n",
        "c. `set()` : untuk mengubah menjadi set\n",
        "\n",
        "d. `dict()` : untuk mengubah menjadi dictionary\n",
        "\n"
      ]
    },
    {
      "cell_type": "markdown",
      "metadata": {
        "id": "u8tFsEnALC-Q"
      },
      "source": [
        "# Mengkonversikan tipe data list:"
      ]
    },
    {
      "cell_type": "code",
      "metadata": {
        "id": "gpc_CFPOJwxQ"
      },
      "source": [
        "# membuat 2 list\n",
        "L1 = [1, 2, 3, 4]\n",
        "L2 = [5, 6, 7, 8]"
      ],
      "execution_count": null,
      "outputs": []
    },
    {
      "cell_type": "code",
      "metadata": {
        "colab": {
          "base_uri": "https://localhost:8080/"
        },
        "id": "BIqXlunzLf70",
        "outputId": "3fc4e696-fc06-407d-9888-a18eb02ef60c"
      },
      "source": [
        "# Mengkonversi struktur data list\n",
        "k_tuple = tuple(L1)\n",
        "k_set = set(L2)\n",
        "k_dict = dict(zip(L1, L2))\n",
        "# Melihat data yang telah dikonversi\n",
        "print(k_tuple)\n",
        "print(k_set)\n",
        "print(k_dict)"
      ],
      "execution_count": null,
      "outputs": [
        {
          "output_type": "stream",
          "name": "stdout",
          "text": [
            "(1, 2, 3, 4)\n",
            "{8, 5, 6, 7}\n",
            "{1: 5, 2: 6, 3: 7, 4: 8}\n"
          ]
        }
      ]
    },
    {
      "cell_type": "markdown",
      "metadata": {
        "id": "MJqsfzMLN74D"
      },
      "source": [
        "# Mengkonversi tipe data tuple:"
      ]
    },
    {
      "cell_type": "code",
      "metadata": {
        "id": "xg19eG8KOCci"
      },
      "source": [
        "# Membuat dua tuple\n",
        "T1 = (1, 2, 3, 4)\n",
        "T2 = (5, 6, 7, 8)"
      ],
      "execution_count": null,
      "outputs": []
    },
    {
      "cell_type": "code",
      "metadata": {
        "colab": {
          "base_uri": "https://localhost:8080/"
        },
        "id": "5LjPOwlAOOQp",
        "outputId": "6ad8917b-d5ad-4adf-f6ff-e49c3d291e8c"
      },
      "source": [
        "# Mengkonversi struktur data tuple\n",
        "k_list = list(T1)\n",
        "k_set = set(T2)\n",
        "k_dict = dict(zip(T1, T2))\n",
        "# Melihat data yang telah dikonversi\n",
        "print(k_list)\n",
        "print(k_set)\n",
        "print(k_dict)"
      ],
      "execution_count": null,
      "outputs": [
        {
          "output_type": "stream",
          "name": "stdout",
          "text": [
            "[1, 2, 3, 4]\n",
            "{8, 5, 6, 7}\n",
            "{1: 5, 2: 6, 3: 7, 4: 8}\n"
          ]
        }
      ]
    },
    {
      "cell_type": "markdown",
      "metadata": {
        "id": "LISMcJPmMJ0R"
      },
      "source": [
        "# Mengkonversi tipe data set:"
      ]
    },
    {
      "cell_type": "code",
      "metadata": {
        "id": "q6zdMdyrMR9U"
      },
      "source": [
        "# Membuat dua set\n",
        "S1 = {1, 2, 3, 4}\n",
        "S2 = {5, 6, 7, 8}"
      ],
      "execution_count": null,
      "outputs": []
    },
    {
      "cell_type": "code",
      "metadata": {
        "colab": {
          "base_uri": "https://localhost:8080/"
        },
        "id": "TCzzPKPKO5gH",
        "outputId": "7eb36232-975a-4ab2-8089-55cde7989cde"
      },
      "source": [
        "# Mengkonversi struktur data set\n",
        "k_list = list(S1)\n",
        "k_tuple = tuple(S2)\n",
        "k_dict = dict(zip(S1, S2))\n",
        "# Melihat data yang telah dikonversi\n",
        "print(k_list)\n",
        "print(k_tuple)\n",
        "print(k_dict)"
      ],
      "execution_count": null,
      "outputs": [
        {
          "output_type": "stream",
          "name": "stdout",
          "text": [
            "[1, 2, 3, 4]\n",
            "(8, 5, 6, 7)\n",
            "{1: 8, 2: 5, 3: 6, 4: 7}\n"
          ]
        }
      ]
    },
    {
      "cell_type": "markdown",
      "metadata": {
        "id": "7opG5go8Pa3D"
      },
      "source": [
        "# Mengkonversi tipe data list:"
      ]
    },
    {
      "cell_type": "code",
      "metadata": {
        "id": "LMLtPD5rPfgq"
      },
      "source": [
        "# Membuat dictionary\n",
        "D = { \"nama\": \"Andi\",\n",
        "     \"alamat\": \"Yogyakarta\",\n",
        "     \"umur\": 20\n",
        "     }"
      ],
      "execution_count": null,
      "outputs": []
    },
    {
      "cell_type": "code",
      "metadata": {
        "colab": {
          "base_uri": "https://localhost:8080/"
        },
        "id": "WQlLHqVSPz0y",
        "outputId": "e6bdd804-5c87-45af-e312-31e4b7a41602"
      },
      "source": [
        "# Mengkonversi struktur data dictionary dari key dan value-nya\n",
        "k_list = list(D.keys())\n",
        "k_tuple = tuple(D.values())\n",
        "k_set = set(D.keys())\n",
        "# Melihat data yang telah dikonversi\n",
        "print(k_list)\n",
        "print(k_tuple)\n",
        "print(k_set)"
      ],
      "execution_count": null,
      "outputs": [
        {
          "output_type": "stream",
          "name": "stdout",
          "text": [
            "['nama', 'alamat', 'umur']\n",
            "('Andi', 'Yogyakarta', 20)\n",
            "{'alamat', 'nama', 'umur'}\n"
          ]
        }
      ]
    },
    {
      "cell_type": "markdown",
      "metadata": {
        "id": "Um6oaYNiLlvn"
      },
      "source": [
        "# Latihan"
      ]
    },
    {
      "cell_type": "code",
      "metadata": {
        "id": "1NobMxIQLkje"
      },
      "source": [
        "# Lakukan konversi struktur data yang kalian buat pada notebook-notebook\n",
        "# sebelumnya menjadi list, tuple, set, dan dictionary (masing-masing satu)"
      ],
      "execution_count": null,
      "outputs": []
    },
    {
      "cell_type": "markdown",
      "metadata": {
        "id": "zkM8g9MGVbQG"
      },
      "source": [
        "Konversi type data list"
      ]
    },
    {
      "cell_type": "code",
      "metadata": {
        "id": "f0LNr8ASLxXl"
      },
      "source": [
        "L3 = [7, 14, 21, 28]\n",
        "L4 = [6, 12, 18, 24]"
      ],
      "execution_count": null,
      "outputs": []
    },
    {
      "cell_type": "code",
      "metadata": {
        "colab": {
          "base_uri": "https://localhost:8080/"
        },
        "id": "kXrPfV2jV9NE",
        "outputId": "54d237d9-363b-49e8-dbd7-7bbd90d61629"
      },
      "source": [
        "# Mengkonversi type data list\n",
        "k_tuple = tuple(L3)\n",
        "k_set = set(L3)\n",
        "k_dict = dict(zip(L3, L4))\n",
        "# Melihat data yang telah dikonversi\n",
        "print(k_tuple)\n",
        "print(k_set)\n",
        "print(k_dict)"
      ],
      "execution_count": null,
      "outputs": [
        {
          "output_type": "stream",
          "name": "stdout",
          "text": [
            "(7, 14, 21, 28)\n",
            "{28, 21, 14, 7}\n",
            "{7: 6, 14: 12, 21: 18, 28: 24}\n"
          ]
        }
      ]
    },
    {
      "cell_type": "markdown",
      "metadata": {
        "id": "TR2QTUlDXqUN"
      },
      "source": [
        "Mengkonversi tipe data tuple:"
      ]
    },
    {
      "cell_type": "code",
      "metadata": {
        "id": "UAfFN0GvW5b4"
      },
      "source": [
        "Namahari1 = ('Senin', 'Selasa', 'Rabu', 'Kamis')\n",
        "Namahari2 = ('Jumat', 'Sabtu', 'Minggu')"
      ],
      "execution_count": null,
      "outputs": []
    },
    {
      "cell_type": "code",
      "metadata": {
        "colab": {
          "base_uri": "https://localhost:8080/"
        },
        "id": "3oVUu-PSYJHp",
        "outputId": "4f55c1a1-0795-45d5-8f4e-7d78a9a1d6a7"
      },
      "source": [
        "# Mengkonversi type data tuple\n",
        "k_tuple = tuple(Namahari1)\n",
        "k_set = set(Namahari2)\n",
        "k_dict = dict(zip(Namahari1, Namahari2))\n",
        "# Melihat data yang telah dikonversi\n",
        "print(k_tuple)\n",
        "print(k_set)\n",
        "print(k_dict)"
      ],
      "execution_count": null,
      "outputs": [
        {
          "output_type": "stream",
          "name": "stdout",
          "text": [
            "('Senin', 'Selasa', 'Rabu', 'Kamis')\n",
            "{'Minggu', 'Jumat', 'Sabtu'}\n",
            "{'Senin': 'Jumat', 'Selasa': 'Sabtu', 'Rabu': 'Minggu'}\n"
          ]
        }
      ]
    },
    {
      "cell_type": "markdown",
      "metadata": {
        "id": "ZezOWR9-Y2sO"
      },
      "source": [
        "Mengkonversi tipe data set"
      ]
    },
    {
      "cell_type": "code",
      "metadata": {
        "id": "1cxbhA-dYQtw"
      },
      "source": [
        "S3 = {7, 'tujuh', False, 10-3j}\n",
        "S4 = {1, 2, 3, 4}"
      ],
      "execution_count": null,
      "outputs": []
    },
    {
      "cell_type": "code",
      "metadata": {
        "colab": {
          "base_uri": "https://localhost:8080/"
        },
        "id": "qBMRJI8tZtwD",
        "outputId": "bb9e4e84-cd37-4af0-97ff-78c939f261ed"
      },
      "source": [
        "# Mengkonversi type data set\n",
        "k_tuple = tuple(S3)\n",
        "k_set = set(S4)\n",
        "k_dict = dict(zip(S3, S4))\n",
        "# Melihat data yang telah dikonversi\n",
        "print(k_tuple)\n",
        "print(k_set)\n",
        "print(k_dict)"
      ],
      "execution_count": null,
      "outputs": [
        {
          "output_type": "stream",
          "name": "stdout",
          "text": [
            "(False, 'tujuh', (10-3j), 7)\n",
            "{1, 2, 3, 4}\n",
            "{False: 1, 'tujuh': 2, (10-3j): 3, 7: 4}\n"
          ]
        }
      ]
    },
    {
      "cell_type": "markdown",
      "metadata": {
        "id": "VQoOvpURacE2"
      },
      "source": [
        "Mengkonversi tipe data dictionary"
      ]
    },
    {
      "cell_type": "code",
      "metadata": {
        "id": "1vqceVndamxP"
      },
      "source": [
        "D1 = {\n",
        "    \"hari libur\" : \"Minggu\",\n",
        "    \"hari kerja\" : \"Senin\",\n",
        "    }"
      ],
      "execution_count": null,
      "outputs": []
    },
    {
      "cell_type": "code",
      "metadata": {
        "colab": {
          "base_uri": "https://localhost:8080/"
        },
        "id": "Cuh0oG45cXKO",
        "outputId": "1a25e521-750f-4803-bf75-5a04478fb3fb"
      },
      "source": [
        "# Mengkonversi type data dictionary\n",
        "k_list = list(D1.keys())\n",
        "k_tuple = tuple(D1.values())\n",
        "k_set = set(D1.keys())\n",
        "# Melihat data yang telah dikonversi\n",
        "print(k_list)\n",
        "print(k_tuple)\n",
        "print(k_set)"
      ],
      "execution_count": null,
      "outputs": [
        {
          "output_type": "stream",
          "name": "stdout",
          "text": [
            "['hari libur', 'hari kerja']\n",
            "('Minggu', 'Senin')\n",
            "{'hari libur', 'hari kerja'}\n"
          ]
        }
      ]
    }
  ]
}
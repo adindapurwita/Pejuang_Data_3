{
  "nbformat": 4,
  "nbformat_minor": 0,
  "metadata": {
    "colab": {
      "name": "2100015045_Adinda Purwita Dyah Astuti.ipynb",
      "provenance": [],
      "collapsed_sections": [],
      "include_colab_link": true
    },
    "kernelspec": {
      "name": "python3",
      "display_name": "Python 3"
    },
    "language_info": {
      "name": "python"
    }
  },
  "cells": [
    {
      "cell_type": "markdown",
      "metadata": {
        "id": "view-in-github",
        "colab_type": "text"
      },
      "source": [
        "<a href=\"https://colab.research.google.com/github/adindapurwita/Pejuang_Data_3/blob/main/2100015045_Adinda_Purwita_Dyah_Astuti.ipynb\" target=\"_parent\"><img src=\"https://colab.research.google.com/assets/colab-badge.svg\" alt=\"Open In Colab\"/></a>"
      ]
    },
    {
      "cell_type": "markdown",
      "source": [
        "1. Menghitung kecepatan dengan memasukkan jarak dan waktu\n"
      ],
      "metadata": {
        "id": "DuqXAPHv8KYX"
      }
    },
    {
      "cell_type": "code",
      "execution_count": 1,
      "metadata": {
        "colab": {
          "base_uri": "https://localhost:8080/"
        },
        "id": "FY0DdJzK8JWv",
        "outputId": "320a2a20-8883-4c75-f4bd-2dac5334cd19"
      },
      "outputs": [
        {
          "output_type": "stream",
          "name": "stdout",
          "text": [
            "Masukkan jarak: 100\n",
            "Masukkan waktu: 10\n",
            "kecepatannya adalah:  10.0 m/s\n"
          ]
        }
      ],
      "source": [
        "x = int(input(\"Masukkan jarak: \"))\n",
        "y = int(input(\"Masukkan waktu: \"))\n",
        "kecepatan = (x/y)\n",
        "v = kecepatan\n",
        "print(\"kecepatannya adalah: \", v, \"m/s\")"
      ]
    },
    {
      "cell_type": "markdown",
      "source": [
        "2. Menghitung luas persegi jika diketahui kelilingnya"
      ],
      "metadata": {
        "id": "jBcfDDbjH_H4"
      }
    },
    {
      "cell_type": "code",
      "source": [
        "k = int(input(\"Jika kelilingnya: \"))\n",
        "sisi = (k/4)\n",
        "def Luas(L):\n",
        "  sisi*sisi\n",
        "L = sisi*sisi\n",
        "print(\"Maka luasnya adalah: \", L, \"cm\")"
      ],
      "metadata": {
        "colab": {
          "base_uri": "https://localhost:8080/"
        },
        "id": "Q8Y6xi80-SOk",
        "outputId": "18532eca-292e-4b84-a61a-d0a95afc8a4a"
      },
      "execution_count": 2,
      "outputs": [
        {
          "output_type": "stream",
          "name": "stdout",
          "text": [
            "Jika kelilingnya: 80\n",
            "Maka luasnya adalah:  400.0 cm\n"
          ]
        }
      ]
    },
    {
      "cell_type": "markdown",
      "source": [
        "\n",
        "3. Menghitung keliling lingkaran jika diketahui luasnya"
      ],
      "metadata": {
        "id": "JhhvGdVHIEhv"
      }
    },
    {
      "cell_type": "code",
      "source": [
        "phi = 22/7\n",
        "L = int(input(\"Jika diketahui luas lingkaran: \"))\n",
        "r = (L/phi)**(1/2)\n",
        "def Keliling(K):\n",
        "  2*phi*r\n",
        "K = 2*phi*r\n",
        "print(\"Maka kelilingnya adalah: \", K, \"cm\")"
      ],
      "metadata": {
        "colab": {
          "base_uri": "https://localhost:8080/"
        },
        "id": "w6DX4stWH5TK",
        "outputId": "134447ae-3ef6-479b-df5e-4cecdafb05bc"
      },
      "execution_count": 3,
      "outputs": [
        {
          "output_type": "stream",
          "name": "stdout",
          "text": [
            "Jika diketahui luas lingkaran: 616\n",
            "Maka kelilingnya adalah:  88.0 cm\n"
          ]
        }
      ]
    },
    {
      "cell_type": "markdown",
      "source": [
        "4. Menghitung sisi miring phytagoras jika diketahui dua sisi tegaknya"
      ],
      "metadata": {
        "id": "uaV9O356LPaQ"
      }
    },
    {
      "cell_type": "code",
      "source": [
        "x = int(input(\"Masukkan sisi tegak pertama: \"))\n",
        "y = int(input(\"Masukkan sisi tegak kedua: \"))\n",
        "sisi_miring = ((x**2+y**2)**(1/2))\n",
        "z = sisi_miring\n",
        "print(\"Maka sisi miringnya adalah: \", z, \"cm\")"
      ],
      "metadata": {
        "colab": {
          "base_uri": "https://localhost:8080/"
        },
        "id": "4A85UrA3LttR",
        "outputId": "9798c263-4bbd-4e0b-e0cf-fd0559bbc5ae"
      },
      "execution_count": 4,
      "outputs": [
        {
          "output_type": "stream",
          "name": "stdout",
          "text": [
            "Masukkan sisi tegak pertama: 5\n",
            "Masukkan sisi tegak kedua: 12\n",
            "Maka sisi miringnya adalah:  13.0 cm\n"
          ]
        }
      ]
    }
  ]
}
{
  "nbformat": 4,
  "nbformat_minor": 0,
  "metadata": {
    "colab": {
      "name": "M1P2V2_Variabel_dan_Tipe_Data.ipynb",
      "provenance": [],
      "collapsed_sections": [],
      "authorship_tag": "ABX9TyPMat+uqfwjL30mtjuR9mou",
      "include_colab_link": true
    },
    "kernelspec": {
      "name": "python3",
      "display_name": "Python 3"
    },
    "language_info": {
      "name": "python"
    }
  },
  "cells": [
    {
      "cell_type": "markdown",
      "metadata": {
        "id": "view-in-github",
        "colab_type": "text"
      },
      "source": [
        "<a href=\"https://colab.research.google.com/github/adindapurwita/Pejuang_Data_3/blob/main/M1P2V2_Variabel_dan_Tipe_Data.ipynb\" target=\"_parent\"><img src=\"https://colab.research.google.com/assets/colab-badge.svg\" alt=\"Open In Colab\"/></a>"
      ]
    },
    {
      "cell_type": "markdown",
      "metadata": {
        "id": "fKosS2sAk1Dh"
      },
      "source": [
        "# **Variabel & Tipe Data**"
      ]
    },
    {
      "cell_type": "markdown",
      "metadata": {
        "id": "xPDtha_Fk82m"
      },
      "source": [
        "# Variabel"
      ]
    },
    {
      "cell_type": "markdown",
      "metadata": {
        "id": "1to6mHrmlC59"
      },
      "source": [
        "Variabel: Lokasi penyimpanan yang dapat digunakan untuk menampung seluruh data atau informasi.\n",
        "Syarat-syarat penamaan variabel\n",
        "\n",
        "1.   Karakter-karakter yang digunakan untuk penamaan variabel adalah alphabet, angka, dan underscore.\n",
        "2.   Karakter pertama variabel harus berupa huruf atau garis bawah/underscore, dan tidak bisa berupa angka.\n",
        "3. Nama sebuah variabel tidak bisa menggunakan keyword atau reserved word dari bahasa python seperti for, if dan lainnya.\n",
        "4. Karakter pada nama variabel bersifat sensitif (case-sensitif).\n",
        "\n"
      ]
    },
    {
      "cell_type": "code",
      "metadata": {
        "id": "6ariiLq-mL4Z"
      },
      "source": [
        "# membuat variabel\n",
        "kalimat = 'ini adalah variabel'\n",
        "bilangan1 = 4\n",
        "bilangan2 = 2.5\n",
        "bilangan3 = True\n",
        "bilangan4 = 1j + 4"
      ],
      "execution_count": null,
      "outputs": []
    },
    {
      "cell_type": "code",
      "metadata": {
        "colab": {
          "base_uri": "https://localhost:8080/"
        },
        "id": "mfsViqngnPLh",
        "outputId": "de0f7ca4-bac3-4d05-9769-999bcc397055"
      },
      "source": [
        "# menampilkan variabel\n",
        "print(kalimat)\n",
        "print(bilangan1)\n",
        "print(bilangan2)"
      ],
      "execution_count": null,
      "outputs": [
        {
          "output_type": "stream",
          "name": "stdout",
          "text": [
            "ini adalah variabel\n",
            "4\n",
            "2.5\n"
          ]
        }
      ]
    },
    {
      "cell_type": "markdown",
      "metadata": {
        "id": "huvBj9qBsdoW"
      },
      "source": [
        "Latihan 1"
      ]
    },
    {
      "cell_type": "code",
      "metadata": {
        "id": "AKXKTvlqnnKH"
      },
      "source": [
        "# buatlah 5 variabel kalian sendiri dengan 5 macam tipe data\n",
        "# lalu tampilkan variabel menggunakan fungsi print"
      ],
      "execution_count": null,
      "outputs": []
    },
    {
      "cell_type": "code",
      "metadata": {
        "id": "2cvlHbttumMQ"
      },
      "source": [
        "angka1 = 7\n",
        "angka2 = 3.5\n",
        "kalimat1 = 'mari selesein tugasnya'\n",
        "angka3 = True\n",
        "angka4 = 2j + 5"
      ],
      "execution_count": null,
      "outputs": []
    },
    {
      "cell_type": "code",
      "metadata": {
        "colab": {
          "base_uri": "https://localhost:8080/"
        },
        "id": "MGoUSaXbvd07",
        "outputId": "bc8fbcb3-748b-4677-f2f6-19a92dfb59d1"
      },
      "source": [
        "print(angka1)\n",
        "print(angka2)\n",
        "print(kalimat1)\n",
        "print(angka3)\n",
        "print(angka4)"
      ],
      "execution_count": null,
      "outputs": [
        {
          "output_type": "stream",
          "name": "stdout",
          "text": [
            "7\n",
            "3.5\n",
            "mari selesein tugasnya\n",
            "True\n",
            "(5+2j)\n"
          ]
        }
      ]
    },
    {
      "cell_type": "markdown",
      "metadata": {
        "id": "NeFWNw3inrDH"
      },
      "source": [
        "# Tipe Data"
      ]
    },
    {
      "cell_type": "markdown",
      "metadata": {
        "id": "ldFe4tRwnvQp"
      },
      "source": [
        "5 tipe data yaitu\n",
        "\n",
        "1. Integer atau bilangan bulat\n",
        "2. Float atau bilangan desimal\n",
        "3. String atau kalimat\n",
        "4. Boolean yang terdiri dari True dan False\n",
        "5. Complex yang merupakan bilangan kompleks\n",
        "\n"
      ]
    },
    {
      "cell_type": "code",
      "metadata": {
        "colab": {
          "base_uri": "https://localhost:8080/"
        },
        "id": "katXe9GAoPsH",
        "outputId": "2b2b0b08-701b-4cff-ed2b-aab383884c4f"
      },
      "source": [
        "# menampilkan tipe data\n",
        "print(type(kalimat))\n",
        "print(type(bilangan1))\n",
        "print(type(bilangan3))\n",
        "print(type(bilangan4))"
      ],
      "execution_count": null,
      "outputs": [
        {
          "output_type": "stream",
          "name": "stdout",
          "text": [
            "<class 'str'>\n",
            "<class 'int'>\n",
            "<class 'bool'>\n",
            "<class 'complex'>\n"
          ]
        }
      ]
    },
    {
      "cell_type": "markdown",
      "metadata": {
        "id": "_-F4DaLjsQbK"
      },
      "source": [
        "Latihan 2"
      ]
    },
    {
      "cell_type": "code",
      "metadata": {
        "id": "GiYZ3HJoo1AO"
      },
      "source": [
        "# cet tipe data variabel yang telah kalian buat pada latihan 1"
      ],
      "execution_count": null,
      "outputs": []
    },
    {
      "cell_type": "code",
      "metadata": {
        "colab": {
          "base_uri": "https://localhost:8080/"
        },
        "id": "p5VxoRXqwP-j",
        "outputId": "c3983eb2-5060-4801-bbee-ccc0439d2882"
      },
      "source": [
        "print(type(angka1))\n",
        "print(type(angka2))\n",
        "print(type(kalimat1))\n",
        "print(type(angka3))\n",
        "print(type(angka4))"
      ],
      "execution_count": null,
      "outputs": [
        {
          "output_type": "stream",
          "name": "stdout",
          "text": [
            "<class 'int'>\n",
            "<class 'float'>\n",
            "<class 'str'>\n",
            "<class 'bool'>\n",
            "<class 'complex'>\n"
          ]
        }
      ]
    },
    {
      "cell_type": "markdown",
      "metadata": {
        "id": "NVpt2GIWo4Gp"
      },
      "source": [
        "# Konversi Tipe Data"
      ]
    },
    {
      "cell_type": "markdown",
      "metadata": {
        "id": "2v5bjHXIo79c"
      },
      "source": [
        "Syntax Konversi tipe data\n",
        "\n",
        "1. Integer = int()\n",
        "2. Float = float()\n",
        "3. String = str()\n",
        "4. Boolen = bool()\n",
        "5. Complex = Complex()\n",
        "\n"
      ]
    },
    {
      "cell_type": "code",
      "metadata": {
        "colab": {
          "base_uri": "https://localhost:8080/"
        },
        "id": "qmoRzVCkpUrk",
        "outputId": "03d552d4-f193-4dc7-c905-209d4ebef4bf"
      },
      "source": [
        "# konversi tipe data integer\n",
        "print(int(bilangan2))\n",
        "print(int(bilangan3))"
      ],
      "execution_count": null,
      "outputs": [
        {
          "output_type": "stream",
          "name": "stdout",
          "text": [
            "2\n",
            "0\n"
          ]
        }
      ]
    },
    {
      "cell_type": "code",
      "metadata": {
        "id": "aIBQyIGrp4WC"
      },
      "source": [
        "# konversi tipe data float\n",
        "print(float(bilangan1))\n",
        "print(float(bilangan3))"
      ],
      "execution_count": null,
      "outputs": []
    },
    {
      "cell_type": "code",
      "metadata": {
        "colab": {
          "base_uri": "https://localhost:8080/"
        },
        "id": "YsdlblRJqODU",
        "outputId": "90cd7726-520a-40f6-e1e0-0c555ecbaabf"
      },
      "source": [
        "# konversi tipe data string\n",
        "print(str(bilangan1))\n",
        "print(str(bilangan2))\n",
        "print(str(bilangan3))"
      ],
      "execution_count": null,
      "outputs": [
        {
          "output_type": "stream",
          "name": "stdout",
          "text": [
            "4\n",
            "2.5\n",
            "False\n"
          ]
        }
      ]
    },
    {
      "cell_type": "code",
      "metadata": {
        "colab": {
          "base_uri": "https://localhost:8080/"
        },
        "id": "dm9E39sFqgSc",
        "outputId": "0400c7fb-3cb5-440c-9718-cab08a440ba0"
      },
      "source": [
        "#konversi tipe data bool\n",
        "print(bool(bilangan1))\n",
        "print(bool(bilangan2))"
      ],
      "execution_count": null,
      "outputs": [
        {
          "output_type": "stream",
          "name": "stdout",
          "text": [
            "False\n",
            "True\n"
          ]
        }
      ]
    },
    {
      "cell_type": "code",
      "metadata": {
        "colab": {
          "base_uri": "https://localhost:8080/"
        },
        "id": "7gwN7exzrsVT",
        "outputId": "8150d01b-2958-48e3-adb9-2321e0cd34e1"
      },
      "source": [
        "# konversi tipe data complex\n",
        "print(complex(bilangan1))\n",
        "print(complex(bilangan2))\n",
        "print(complex(bilangan3))"
      ],
      "execution_count": null,
      "outputs": [
        {
          "output_type": "stream",
          "name": "stdout",
          "text": [
            "(4+0j)\n",
            "(2.5+0j)\n",
            "(1+0j)\n"
          ]
        }
      ]
    },
    {
      "cell_type": "markdown",
      "metadata": {
        "id": "OmJhafL_r-pB"
      },
      "source": [
        "Latihan 3"
      ]
    },
    {
      "cell_type": "code",
      "metadata": {
        "id": "ZSD9QTWAsFUU"
      },
      "source": [
        "# konversi tipe data variabel yang telah kalian buat\n",
        "# menjadi berbagai macam tipe data"
      ],
      "execution_count": null,
      "outputs": []
    },
    {
      "cell_type": "code",
      "metadata": {
        "colab": {
          "base_uri": "https://localhost:8080/"
        },
        "id": "X5JJhwwCw-_m",
        "outputId": "748fea8e-f8f3-4f55-d7bd-67e55bb01361"
      },
      "source": [
        "# konversi tipe data integer\n",
        "print(int(angka1))\n",
        "print(int(angka2))\n",
        "print(int(angka3))"
      ],
      "execution_count": null,
      "outputs": [
        {
          "output_type": "stream",
          "name": "stdout",
          "text": [
            "7\n",
            "3\n",
            "1\n"
          ]
        }
      ]
    },
    {
      "cell_type": "code",
      "metadata": {
        "colab": {
          "base_uri": "https://localhost:8080/"
        },
        "id": "OD1-8rQIykZM",
        "outputId": "9c4af2c7-cd02-40a8-a5aa-715a18c0a978"
      },
      "source": [
        "# konversi tipe data float\n",
        "print(float(angka1))\n",
        "print(float(angka2))"
      ],
      "execution_count": null,
      "outputs": [
        {
          "output_type": "stream",
          "name": "stdout",
          "text": [
            "7.0\n",
            "3.5\n"
          ]
        }
      ]
    },
    {
      "cell_type": "code",
      "metadata": {
        "colab": {
          "base_uri": "https://localhost:8080/"
        },
        "id": "3SwagatEy_hR",
        "outputId": "ff8eae88-489f-4769-ec37-0f312e6a5601"
      },
      "source": [
        "# konversi tipe data string\n",
        "print(str(angka1))\n",
        "print(str(angka2))\n",
        "print(str(kalimat1))\n",
        "print(str(angka3))\n",
        "print(str(angka4))"
      ],
      "execution_count": null,
      "outputs": [
        {
          "output_type": "stream",
          "name": "stdout",
          "text": [
            "7\n",
            "3.5\n",
            "mari selesein tugasnya\n",
            "True\n",
            "(5+2j)\n"
          ]
        }
      ]
    },
    {
      "cell_type": "code",
      "metadata": {
        "colab": {
          "base_uri": "https://localhost:8080/"
        },
        "id": "8aiQpOMWzoDz",
        "outputId": "a259e127-e2de-4d8c-f641-6e19ca46485d"
      },
      "source": [
        "# konversi tipe data bool\n",
        "print(bool(angka1))\n",
        "print(bool(angka2))"
      ],
      "execution_count": null,
      "outputs": [
        {
          "output_type": "stream",
          "name": "stdout",
          "text": [
            "True\n",
            "True\n"
          ]
        }
      ]
    },
    {
      "cell_type": "code",
      "metadata": {
        "colab": {
          "base_uri": "https://localhost:8080/"
        },
        "id": "epUQnjJh0DRr",
        "outputId": "14568043-411b-4030-9af6-c602ac75819d"
      },
      "source": [
        "# konversi tipe data complex\n",
        "print(complex(angka1))\n",
        "print(complex(angka2))\n",
        "print(complex(angka4))\n",
        "print(complex(angka3))"
      ],
      "execution_count": null,
      "outputs": [
        {
          "output_type": "stream",
          "name": "stdout",
          "text": [
            "(7+0j)\n",
            "(3.5+0j)\n",
            "(5+2j)\n",
            "(1+0j)\n"
          ]
        }
      ]
    }
  ]
}
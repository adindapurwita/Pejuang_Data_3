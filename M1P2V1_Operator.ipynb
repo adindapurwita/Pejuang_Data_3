{
  "nbformat": 4,
  "nbformat_minor": 0,
  "metadata": {
    "colab": {
      "name": "M1P2V1_Operator.ipynb",
      "provenance": [],
      "collapsed_sections": [],
      "authorship_tag": "ABX9TyMPnjkCvvHY1z3IqRwYLrpe",
      "include_colab_link": true
    },
    "kernelspec": {
      "name": "python3",
      "display_name": "Python 3"
    },
    "language_info": {
      "name": "python"
    }
  },
  "cells": [
    {
      "cell_type": "markdown",
      "metadata": {
        "id": "view-in-github",
        "colab_type": "text"
      },
      "source": [
        "<a href=\"https://colab.research.google.com/github/adindapurwita/Pejuang_Data_3/blob/main/M1P2V1_Operator.ipynb\" target=\"_parent\"><img src=\"https://colab.research.google.com/assets/colab-badge.svg\" alt=\"Open In Colab\"/></a>"
      ]
    },
    {
      "cell_type": "markdown",
      "metadata": {
        "id": "5Ix0JFU9tOen"
      },
      "source": [
        "# **Operator**"
      ]
    },
    {
      "cell_type": "markdown",
      "metadata": {
        "id": "Ho39IJ6FtVog"
      },
      "source": [
        "Operator = Simbol-simbol yang dapat digunakan untuk mengubah nilai dari satu variabel dengan melibatkan satu atau lebih variabel dan literal.\n",
        "tipe-tipe operator\n",
        "\n",
        "1. Operator Aritmatika\n",
        "2. Operator Assignment\n",
        "3. Operator Pembanding\n",
        "4. Operator Logika\n",
        "5. Operator Membership\n",
        "\n"
      ]
    },
    {
      "cell_type": "markdown",
      "metadata": {
        "id": "DyZdqOtAuCNH"
      },
      "source": [
        "# Operator Aritmatika"
      ]
    },
    {
      "cell_type": "markdown",
      "metadata": {
        "id": "NnT9nyd5uGjD"
      },
      "source": [
        "Operator Aritmatika digunakan untuk melakukan operasi matematika yang umum\n",
        "\n",
        "macam-macam operator matematika:\n",
        "\n",
        "```\n",
        "+  : Penjumlahan\n",
        "- : Pengurangan\n",
        "* : Perkalian\n",
        "/ : Pembagian\n",
        "% : Modulus\n",
        "**:Perpangkatan\n",
        "//:Pembagian dengan hasil pembulatan flooring\n",
        "```\n",
        "\n"
      ]
    },
    {
      "cell_type": "code",
      "metadata": {
        "id": "-GdzDy9fweid"
      },
      "source": [
        "# Contoh penggunaan operator aritmatika\n",
        "\n",
        "#Penjumlahan\n",
        "print('Penjumlahan')\n",
        "print(2+2)\n",
        "#Pengurangan\n",
        "print('-'*20)\n",
        "print('Pengurangan')\n",
        "print(2-3)\n",
        "#Perkalian\n",
        "print('-'*20)\n",
        "print('Perkalian')\n",
        "print(2*3)\n",
        "#Pembagian\n",
        "print('-'*20)\n",
        "print('Pembagian')\n",
        "print(2/3)\n",
        "#Modulus\n",
        "print('-'*20)\n",
        "print('Modulus')\n",
        "print(2%3)\n",
        "#Perpangkatan\n",
        "print('-'*20)\n",
        "print('Perpangkatan')\n",
        "print(2**3)\n",
        "#Pembagian Pembulatan Floring\n",
        "print('-'*20)\n",
        "print('Pembagian Pembulatan Floring')\n",
        "print(3//2)"
      ],
      "execution_count": null,
      "outputs": []
    },
    {
      "cell_type": "markdown",
      "metadata": {
        "id": "-jua0rhC6luA"
      },
      "source": [
        "Latihan Operator 1"
      ]
    },
    {
      "cell_type": "code",
      "metadata": {
        "id": "FVJTbBeb6oau"
      },
      "source": [
        "# Buatlah program penerapan oprator aritmatika\n",
        "# dengan nilai-nilai yang berbeda dari contoh di atas"
      ],
      "execution_count": null,
      "outputs": []
    },
    {
      "cell_type": "code",
      "metadata": {
        "id": "P6y4DPX_63af"
      },
      "source": [
        "#Penjumlahan\n",
        "print('Penjumlahan')\n",
        "print(2+5)\n",
        "#Pengurangan\n",
        "print('-'*20)\n",
        "print('Pengurangan')\n",
        "print(5-2)\n",
        "#Perkalian\n",
        "print('-'*20)\n",
        "print('Perkalian')\n",
        "print(2*5)\n",
        "#Pembagian\n",
        "print('-'*20)\n",
        "print('Pembagian')\n",
        "print(10/5)\n",
        "#Modulus\n",
        "print('-'*20)\n",
        "print('Modulus')\n",
        "print(2%5)\n",
        "#Perpangkatan\n",
        "print('-'*20)\n",
        "print('Perpangkatan')\n",
        "print(2**5)\n",
        "#Pembagian Pembulan Floring\n",
        "print('-'*20)\n",
        "print('Pembagian Pembulatan Floring')\n",
        "print(5//3)"
      ],
      "execution_count": null,
      "outputs": []
    },
    {
      "cell_type": "markdown",
      "metadata": {
        "id": "mOXnRmfN6z3I"
      },
      "source": [
        "# Operator Assigment"
      ]
    },
    {
      "cell_type": "markdown",
      "metadata": {
        "id": "O4T_dgNz649M"
      },
      "source": [
        "Operator ```assignment``` digunakan untuk menyimpan nilai menjadi suatu variabel\n",
        "\n",
        "```\n",
        "=   : contonya x = 5 -> x = 5\n",
        "+=  : contonya x = x + 5 -> x += 5\n",
        "-=  : contonya x = x - 5 -> x -= 5\n",
        "*=  : contonya x = x * 5 -> x *= 5\n",
        "/=  : contonya x = x / 5 -> x /= 5\n",
        "%=  : contonya x = x % 5 -> x %= 5\n",
        "//= : contonya x = x // 5 -> x //= 5\n",
        "**= : contonya x = x ** 5 -> x **= 5\n",
        "```\n",
        "\n",
        "\n",
        "\n",
        "\n",
        "\n"
      ]
    },
    {
      "cell_type": "code",
      "metadata": {
        "id": "OHn4M3bIjq7o"
      },
      "source": [
        "# Contoh penggunaan operator Assignment\n",
        "\n",
        "# Penjumlahan\n",
        "print('Penjumlahan')\n",
        "x=5\n",
        "x=x+5\n",
        "print(x)\n",
        "x=5\n",
        "x+=3\n",
        "print(x)\n",
        "print('-'*20)\n",
        "\n",
        "#Pengurangan\n",
        "print('Pengurangan')\n",
        "x=5\n",
        "x=x-5\n",
        "print(x)\n",
        "x=5\n",
        "x-=3\n",
        "print(x)\n",
        "print('-'*20)\n",
        "\n",
        "#Perkalian\n",
        "print('Perkalian')\n",
        "x=5\n",
        "x=x*5\n",
        "print(x)\n",
        "x=5\n",
        "x*=3\n",
        "print(x)\n",
        "print('-'*20)\n",
        "\n",
        "#Pembagian\n",
        "print('Pembagian')\n",
        "x=5\n",
        "x=x/5\n",
        "print(x)\n",
        "x=5\n",
        "x/=3\n",
        "print(x)\n",
        "print('-'*20)\n",
        "\n",
        "#Modulus\n",
        "print('Modulus')\n",
        "x=5\n",
        "x=x%5\n",
        "print(x)\n",
        "x=5\n",
        "x%=3\n",
        "print(x)\n",
        "print('-'*20)\n",
        "\n",
        "#Pembagian Floring\n",
        "print('Pembagian Floring')\n",
        "x=5\n",
        "x=x//5\n",
        "print(x)\n",
        "x=5\n",
        "x//=3\n",
        "print(x)\n",
        "print('-'*20)\n",
        "\n",
        "#Perpangkatan\n",
        "print('Perpangkatan')\n",
        "x=5\n",
        "x=x**5\n",
        "print(x)\n",
        "x=5\n",
        "x**=3\n",
        "print(x)\n",
        "print('-'*20)"
      ],
      "execution_count": null,
      "outputs": []
    },
    {
      "cell_type": "markdown",
      "metadata": {
        "id": "rks3dswlmVIH"
      },
      "source": [
        "Latihan Operator 2"
      ]
    },
    {
      "cell_type": "code",
      "metadata": {
        "id": "MZL5-o-wmYPY"
      },
      "source": [
        "# Buatlah program penerapan operator assignment\n",
        "# dengan nilai-nilai yang berbeda dari contoh di atas"
      ],
      "execution_count": null,
      "outputs": []
    },
    {
      "cell_type": "code",
      "metadata": {
        "id": "C94kCjHR9kU8"
      },
      "source": [
        "#Penjumlahan\n",
        "print('Penjumlahan')\n",
        "x=7\n",
        "x=x+8\n",
        "print(x)\n",
        "x=7\n",
        "x+=2\n",
        "print(x)\n",
        "print('-'*20)\n",
        "\n",
        "#Pengurangan\n",
        "print('Pengurangan')\n",
        "x=7\n",
        "x=x-8\n",
        "print(x)\n",
        "x=7\n",
        "x-=2\n",
        "print(x)\n",
        "print('-'*20)\n",
        "\n",
        "#Perkalian\n",
        "print('Perkalian')\n",
        "x=7\n",
        "x=x*8\n",
        "print(x)\n",
        "x=7\n",
        "x*=2\n",
        "print(x)\n",
        "print('-'*20)\n",
        "\n",
        "#Pembagian\n",
        "print('Pembagian')\n",
        "x=8\n",
        "x=x/2\n",
        "print(x)\n",
        "x=8\n",
        "x/=4\n",
        "print(x)\n",
        "print('-'*20)\n",
        "\n",
        "#Modulus\n",
        "print('Modulus')\n",
        "x=7\n",
        "x=x%7\n",
        "print(x)\n",
        "x=7\n",
        "x%=2\n",
        "print(x)\n",
        "print('-'*20)\n",
        "\n",
        "#Pembagian Pembulatan Floring\n",
        "print('Pembagian Pembulatan Floring')\n",
        "x=7\n",
        "x=x//3\n",
        "print(x)\n",
        "x=7\n",
        "x//=4\n",
        "print(x)\n",
        "print('-'*20)\n",
        "\n",
        "#Perpangkatan\n",
        "print('Perpangkatan')\n",
        "x=7\n",
        "x=x**2\n",
        "print(x)\n",
        "x=3\n",
        "x**=2\n",
        "print(x)\n",
        "print('-'*20)"
      ],
      "execution_count": null,
      "outputs": []
    },
    {
      "cell_type": "markdown",
      "metadata": {
        "id": "iC-mQt47mjWV"
      },
      "source": [
        "# Operator Pembanding"
      ]
    },
    {
      "cell_type": "markdown",
      "metadata": {
        "id": "t311IyoHmrWF"
      },
      "source": [
        "Operator pembanding digunakan untuk membandingkan 2 nilai atau variabel \n",
        "\n",
        "macam-macam operator pembanding:\n",
        "\n",
        "```\n",
        "== -> sama dengan\n",
        "!= -> tidak samadengan\n",
        ">  -> lebih dari\n",
        "<  -> kurang dari\n",
        ">= -> lebih dari da samadengan\n",
        "<= -> kurang dari dan samadengan\n",
        "```\n",
        "\n"
      ]
    },
    {
      "cell_type": "code",
      "metadata": {
        "id": "1uBPxu7gnbIZ"
      },
      "source": [
        "# Contoh penggunaan operator logika\n",
        "\n",
        "print(2==2)\n",
        "print(2!=2)\n",
        "print(2>2)\n",
        "print(2<2)\n",
        "print(2>=2)\n",
        "print(2<=2)"
      ],
      "execution_count": null,
      "outputs": []
    },
    {
      "cell_type": "markdown",
      "metadata": {
        "id": "GT6HXCw5oI7f"
      },
      "source": [
        "Latihan Operator 3"
      ]
    },
    {
      "cell_type": "code",
      "metadata": {
        "id": "FWzwF8tToLeu"
      },
      "source": [
        "# Buatlah program penerapan operator pembanding\n",
        "# dengan nilai-nilai yang berbeda dari contoh di atas"
      ],
      "execution_count": null,
      "outputs": []
    },
    {
      "cell_type": "code",
      "metadata": {
        "id": "lO3fsr7RBViV"
      },
      "source": [
        "#Penerapan Operator Pembanding\n",
        "print(7==2)\n",
        "print(7!=2)\n",
        "print(7>2)\n",
        "print(7<8)\n",
        "print(8>=8)\n",
        "print(8<=7)"
      ],
      "execution_count": null,
      "outputs": []
    },
    {
      "cell_type": "markdown",
      "metadata": {
        "id": "6oiym3ZeoYtF"
      },
      "source": [
        "# Operator Logika "
      ]
    },
    {
      "cell_type": "markdown",
      "metadata": {
        "id": "j8yXMSsoojwb"
      },
      "source": [
        "Opertaor logika digunakan untuk mengkombinasi statment-statment kondisional\n",
        "\n",
        "macam-macam opertaor logika:\n",
        "\n",
        "```\n",
        "and -> kondisi menjadi benar apabila semua statementnya benar\n",
        "or  -> kondisi menjadi benar apabila salah satu statementnya ada yang benar\n",
        "not -> membalik hasil dari benar ke salah dan salah ke benar\n",
        "```\n",
        "\n"
      ]
    },
    {
      "cell_type": "code",
      "metadata": {
        "id": "f9f2Gcr0pMVb"
      },
      "source": [
        "# Contoh penggunaan operator logika \n",
        "\n",
        "print(True and False)\n",
        "print(False or True)\n",
        "print(not False and True)"
      ],
      "execution_count": null,
      "outputs": []
    },
    {
      "cell_type": "markdown",
      "metadata": {
        "id": "C2E6xTtqpncC"
      },
      "source": [
        "Latihan Operator 4"
      ]
    },
    {
      "cell_type": "code",
      "metadata": {
        "id": "ZvvB4Npqpqi8"
      },
      "source": [
        "# Buatlah program penerapan operator logika \n",
        "# dengan nilai-nilai yang berbeda dari contoh di atas"
      ],
      "execution_count": null,
      "outputs": []
    },
    {
      "cell_type": "code",
      "metadata": {
        "id": "yxo5d1GYCEKA"
      },
      "source": [
        "#Program penerapan operator logika\n",
        "print(True and True)\n",
        "print(True and True)\n",
        "print(not True and False)"
      ],
      "execution_count": null,
      "outputs": []
    },
    {
      "cell_type": "markdown",
      "metadata": {
        "id": "AZDoc8xCp3_D"
      },
      "source": [
        "# Operator Keanggotaan"
      ]
    },
    {
      "cell_type": "markdown",
      "metadata": {
        "id": "eZ6ykW-Xp8Uv"
      },
      "source": [
        "Operator keanggotaan digunakan untuk menguji apakah urutan disajikan dalam suatu objek\n",
        "\n",
        "macam-macam operator keanggotaan:\n",
        "\n",
        "```\n",
        "in     -> return True ketika nilai tertentu dalam sebuah urutan ada\n",
        "not in -> return True ketika nilai tertentu dalam sebuah urutan tidak ada\n",
        "```\n",
        "\n"
      ]
    },
    {
      "cell_type": "code",
      "metadata": {
        "id": "Wovg1cv8qd9S"
      },
      "source": [
        "# Contoh penggunaan operator keanggotaan\n",
        "a=(1,2,3,4,5,6)\n",
        "b=2\n",
        "\n",
        "print(b in a)\n",
        "\n",
        "print('-'*20)\n",
        "a=(1,2,3,4,5,6)\n",
        "b=7\n",
        "print(b not in a)"
      ],
      "execution_count": null,
      "outputs": []
    },
    {
      "cell_type": "markdown",
      "metadata": {
        "id": "mTco6e_Wq8Br"
      },
      "source": [
        "Latihan Opertor 5"
      ]
    },
    {
      "cell_type": "code",
      "metadata": {
        "id": "G4lQQ1eerDP6"
      },
      "source": [
        "# Buatlah program penerapan operator keanggotaan/membership\n",
        "# dengan nilai-nilai yang berbeda dari contoh di atas"
      ],
      "execution_count": null,
      "outputs": []
    },
    {
      "cell_type": "code",
      "metadata": {
        "id": "Ke2u79DnDZww"
      },
      "source": [
        "#Penggunaan Operator Logika\n",
        "x=(2,4,6,8)\n",
        "y=2\n",
        "\n",
        "print(y in x)\n",
        "\n",
        "print('-'*20)\n",
        "\n",
        "x=(2,4,6,8)\n",
        "y=3\n",
        "print(y not in x)"
      ],
      "execution_count": null,
      "outputs": []
    }
  ]
}
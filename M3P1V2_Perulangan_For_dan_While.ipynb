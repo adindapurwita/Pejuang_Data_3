{
  "nbformat": 4,
  "nbformat_minor": 0,
  "metadata": {
    "colab": {
      "name": "M3P1V2_Perulangan_For_dan_While.ipynb",
      "provenance": [],
      "collapsed_sections": [],
      "authorship_tag": "ABX9TyNAwh3Fb3OU7g3YTQahG42Z",
      "include_colab_link": true
    },
    "kernelspec": {
      "name": "python3",
      "display_name": "Python 3"
    },
    "language_info": {
      "name": "python"
    }
  },
  "cells": [
    {
      "cell_type": "markdown",
      "metadata": {
        "id": "view-in-github",
        "colab_type": "text"
      },
      "source": [
        "<a href=\"https://colab.research.google.com/github/adindapurwita/Pejuang_Data_3/blob/main/M3P1V2_Perulangan_For_dan_While.ipynb\" target=\"_parent\"><img src=\"https://colab.research.google.com/assets/colab-badge.svg\" alt=\"Open In Colab\"/></a>"
      ]
    },
    {
      "cell_type": "markdown",
      "metadata": {
        "id": "FXBmo6oWdjhC"
      },
      "source": [
        "\n",
        "# **Looping/Perulangan**\n",
        "Python menyediakan dua statement untuk melakukan proses perulangan yaitu for dan while. Diantara kedua statement ini, secara umum for lebih banyak digunakan daripada while"
      ]
    },
    {
      "cell_type": "markdown",
      "metadata": {
        "id": "DfgZuJVweAiO"
      },
      "source": [
        "# For Loop\n",
        "Perulangan `for` digunakan untuk melakukan iterasi didalam `sequence` seperti `list`, `tuple`, `string`, dan `array` atau objek yang dapat diiterasi lainnya.\n",
        "\n",
        "**For Loop Syntax**"
      ]
    },
    {
      "cell_type": "code",
      "metadata": {
        "id": "ef-dtFIedT1D"
      },
      "source": [
        "for val in sequence:\n",
        "    loop body"
      ],
      "execution_count": null,
      "outputs": []
    },
    {
      "cell_type": "markdown",
      "metadata": {
        "id": "UVctQ1aDewcf"
      },
      "source": [
        "**For Loop Flowchart**\n",
        "\n",
        "![image.png](data:image/png;base64,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)"
      ]
    },
    {
      "cell_type": "markdown",
      "metadata": {
        "id": "oXxRfRRhftmx"
      },
      "source": [
        "**Example: Python for Loop**"
      ]
    },
    {
      "cell_type": "code",
      "metadata": {
        "colab": {
          "base_uri": "https://localhost:8080/"
        },
        "id": "JTGnxOvBfskF",
        "outputId": "08b53aaa-cff5-43de-dc40-00db2d0d983f"
      },
      "source": [
        "# Program untuk menghitung jumlah semua angka dalam sebuah list\n",
        "L1 = [2, 4, 5, 7, 9]\n",
        "jumlah = 0\n",
        "\n",
        "# iterasi di dalam list\n",
        "for i in L1:\n",
        "  jumlah = jumlah + i\n",
        "\n",
        "print(jumlah)"
      ],
      "execution_count": null,
      "outputs": [
        {
          "output_type": "stream",
          "name": "stdout",
          "text": [
            "27\n"
          ]
        }
      ]
    },
    {
      "cell_type": "markdown",
      "metadata": {
        "id": "SlUE1Obkgm5v"
      },
      "source": [
        "# The range() function"
      ]
    },
    {
      "cell_type": "code",
      "metadata": {
        "colab": {
          "base_uri": "https://localhost:8080/"
        },
        "id": "E06pIeiBhAeE",
        "outputId": "8f42c3b0-b3f2-4d9f-ddbf-b93f5b84237c"
      },
      "source": [
        "# Program untuk melakukan iterasi di dalam list melalui indeks\n",
        "minuman = [\"teh\", \"boba\", \"kopi\", \"susu\"]\n",
        "p = len(minuman)\n",
        "\n",
        "# iterasi di dalam list melalui indeks\n",
        "for i in range(p):\n",
        "  print(minuman[i])"
      ],
      "execution_count": null,
      "outputs": [
        {
          "output_type": "stream",
          "name": "stdout",
          "text": [
            "teh\n",
            "boba\n",
            "kopi\n",
            "susu\n"
          ]
        }
      ]
    },
    {
      "cell_type": "markdown",
      "metadata": {
        "id": "1M-wOFt-hni1"
      },
      "source": [
        "# **for loop with else**"
      ]
    },
    {
      "cell_type": "code",
      "metadata": {
        "colab": {
          "base_uri": "https://localhost:8080/"
        },
        "id": "Z8L-_xsvhrz4",
        "outputId": "4d1a87de-44bf-4e96-abd1-4235ae355103"
      },
      "source": [
        "#Contoh for loop menggunakan else\n",
        "for i in range(p):\n",
        "  print(minuman[i])\n",
        "else:\n",
        "  print(\"Elemen sudah habis\")"
      ],
      "execution_count": null,
      "outputs": [
        {
          "output_type": "stream",
          "name": "stdout",
          "text": [
            "teh\n",
            "boba\n",
            "kopi\n",
            "susu\n",
            "Elemen sudah habis\n"
          ]
        }
      ]
    },
    {
      "cell_type": "markdown",
      "metadata": {
        "id": "hV5IMlf5iBPX"
      },
      "source": [
        "# Latihan"
      ]
    },
    {
      "cell_type": "markdown",
      "metadata": {
        "id": "XlZ66bitiEYD"
      },
      "source": [
        "Diberikan `list_tagihan`. Kamu diminta untuk menghitung jumlah seluruh tagihan! Gunakan looping `for` untuk menyelesaikan tugas ini! Simpan hasilnya pada variabel `total_tagihan`!\n",
        "\n",
        "`list_tagihan = [50000, 75000, -150000, 125000, 300000, -50000, 200000]`"
      ]
    },
    {
      "cell_type": "code",
      "metadata": {
        "id": "p0TR2GM2i0q1",
        "colab": {
          "base_uri": "https://localhost:8080/"
        },
        "outputId": "99bf2636-5ebe-40a6-ec1e-7f55f2df0408"
      },
      "source": [
        "tagihan = [50000, 75000, -150000, 125000, 300000, -50000, 200000]\n",
        "jumlah = 0\n",
        "\n",
        "for i in tagihan:\n",
        "  jumlah = jumlah + i\n",
        "\n",
        "print(jumlah)"
      ],
      "execution_count": null,
      "outputs": [
        {
          "output_type": "stream",
          "name": "stdout",
          "text": [
            "550000\n"
          ]
        }
      ]
    },
    {
      "cell_type": "markdown",
      "metadata": {
        "id": "YDt0mec2i1pw"
      },
      "source": [
        "# While Loop\n",
        "\n",
        "While loop pada Python digunakan untuk melakukan iterasi pada blok kode selama nilai dari `test expression` adalah `true`. \n",
        "\n",
        "**Syntax of while Loop in Python**"
      ]
    },
    {
      "cell_type": "code",
      "metadata": {
        "id": "vwKmQkNljOLI"
      },
      "source": [
        "while test_expression:\n",
        "  Body of while"
      ],
      "execution_count": null,
      "outputs": []
    },
    {
      "cell_type": "markdown",
      "metadata": {
        "id": "DXtBc-YNjVB0"
      },
      "source": [
        "While Loop Flowchart\n",
        "\n",
        "![image.png](data:image/png;base64,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)"
      ]
    },
    {
      "cell_type": "markdown",
      "metadata": {
        "id": "4qJoaQUPj2Ud"
      },
      "source": [
        "Example: Python while Loop"
      ]
    },
    {
      "cell_type": "code",
      "metadata": {
        "id": "uJshgtI-o0EM"
      },
      "source": [
        "# Program untuk menjumlahkan semua \n",
        "# bilangan asli hingga suku ke-n\n",
        "# jumlah = 1+2+3+...+n\n",
        "\n",
        "n = 10\n",
        "jumlah = 0\n",
        "i = 1\n",
        "\n",
        "while 1 <= n:\n",
        "  jumlah = jumlah + i\n",
        "  i = i + 1\n",
        "\n",
        "print(jumlah)"
      ],
      "execution_count": null,
      "outputs": []
    },
    {
      "cell_type": "markdown",
      "metadata": {
        "id": "Eiy2nxBwkgnc"
      },
      "source": [
        "# **While loop with else**\n",
        "\n",
        "Sama dengan `for` loop kita juga dapat mengkombinasikan `while` loop dengan blok `else`. Bagian `else` akan dieksekusi jika nilai pada `test expression pada` pada `while loop`  bernilai `False`. Perhatikan contoh berikut:"
      ]
    },
    {
      "cell_type": "code",
      "metadata": {
        "id": "cCv7_KA1lCi1"
      },
      "source": [
        "jum = 0\n",
        "i = 1\n",
        "while i <= n:\n",
        "  jum = jum + 1\n",
        "  i = i + 1\n",
        "else:\n",
        "  print(jum): # dieksekusi diluar looping"
      ],
      "execution_count": null,
      "outputs": []
    },
    {
      "cell_type": "markdown",
      "metadata": {
        "id": "ElPAuda2lWF-"
      },
      "source": [
        "# Latihan 2"
      ]
    },
    {
      "cell_type": "markdown",
      "metadata": {
        "id": "2DJc4ZJblZ7r"
      },
      "source": [
        "Diberikan list `tagihan` hitunglah `total_tagihan` menggunakan `while looping`.\n",
        "\n",
        "`tagihan = [50000, 75000, 125000, 300000, 200000]`"
      ]
    },
    {
      "cell_type": "code",
      "metadata": {
        "id": "j_9EKqIdl9ss",
        "colab": {
          "base_uri": "https://localhost:8080/"
        },
        "outputId": "43f9744e-2b48-4a73-b85f-d5d7b0b90b91"
      },
      "source": [
        "tagihan = [50000, 75000, 125000, 300000, 200000]\n",
        "jumlah_tagihan = len(tagihan)\n",
        "total_tagihan = 0\n",
        "i = 0\n",
        "\n",
        "while i < jumlah_tagihan:\n",
        "  total_tagihan = total_tagihan + tagihan[i]\n",
        "  i = i + 1\n",
        "\n",
        "print(total_tagihan)"
      ],
      "execution_count": null,
      "outputs": [
        {
          "output_type": "stream",
          "name": "stdout",
          "text": [
            "750000\n"
          ]
        }
      ]
    }
  ]
}
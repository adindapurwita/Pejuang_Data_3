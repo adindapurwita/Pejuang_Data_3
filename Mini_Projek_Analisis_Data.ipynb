{
  "nbformat": 4,
  "nbformat_minor": 0,
  "metadata": {
    "colab": {
      "name": "Mini Projek Analisis Data.ipynb",
      "provenance": [],
      "collapsed_sections": [],
      "authorship_tag": "ABX9TyONbZKBs2KW8cfyfxQYsrjN",
      "include_colab_link": true
    },
    "kernelspec": {
      "name": "python3",
      "display_name": "Python 3"
    },
    "language_info": {
      "name": "python"
    }
  },
  "cells": [
    {
      "cell_type": "markdown",
      "metadata": {
        "id": "view-in-github",
        "colab_type": "text"
      },
      "source": [
        "<a href=\"https://colab.research.google.com/github/adindapurwita/Pejuang_Data_3/blob/main/Mini_Projek_Analisis_Data.ipynb\" target=\"_parent\"><img src=\"https://colab.research.google.com/assets/colab-badge.svg\" alt=\"Open In Colab\"/></a>"
      ]
    },
    {
      "cell_type": "markdown",
      "metadata": {
        "id": "Oy6Hhbt0P6ej"
      },
      "source": [
        "# **Analisis Data Genre di Webtoon**"
      ]
    },
    {
      "cell_type": "markdown",
      "metadata": {
        "id": "7Jf8vwDeQVT9"
      },
      "source": [
        "# Latar Belakang\n",
        "\n",
        "Webtoon merupakan suatu aplikasi dimana seseorang dapat membaca atau membuat sebuah komik. Aplikasi ini menjadi sangat populer belakangan ini. Webtoon sendiri menyediakan berbagai macam cerita yang pastinya menarik untuk dibaca. Di dalam webtoon sudah terdapat banyak cerita populer yang kemudian diangkat menjadi drama. Dari sekin banyak tersebut tentunya ada salah satu genre yang sangat banyak dibicarakan atau di angkat menjadi sebuah cerita. Analisis ini bertujuan untuk mencari tau genre webtoon apa yang paling banyak di angkat menjadi cerita komik."
      ]
    },
    {
      "cell_type": "markdown",
      "metadata": {
        "id": "tbfZLEX6QcuL"
      },
      "source": [
        "# Pertanyaan Analisis\n",
        "\n",
        "1. Genre apa yang paling banyak terdapat di Webtoon?"
      ]
    },
    {
      "cell_type": "markdown",
      "metadata": {
        "id": "fVQx1HQfQiTb"
      },
      "source": [
        "# EDA (Exploratory Data Analisis)"
      ]
    },
    {
      "cell_type": "code",
      "metadata": {
        "id": "W_25eGcYY0Db"
      },
      "source": [
        "import pandas as pd\n",
        "import numpy as np\n",
        "import seaborn as sns\n",
        "import matplotlib.pyplot as plt\n",
        "%matplotlib inline"
      ],
      "execution_count": 3,
      "outputs": []
    },
    {
      "cell_type": "markdown",
      "metadata": {
        "id": "zmigtaDqWuNd"
      },
      "source": [
        "**Mengakses data**"
      ]
    },
    {
      "cell_type": "code",
      "metadata": {
        "colab": {
          "base_uri": "https://localhost:8080/",
          "height": 289
        },
        "id": "eqVIFvtrh4fW",
        "outputId": "61249540-0f9c-42e7-d373-1b6cbf321445"
      },
      "source": [
        "df = pd.read_csv('/Webtoon Dataset.csv')\n",
        "df.head()"
      ],
      "execution_count": 4,
      "outputs": [
        {
          "output_type": "execute_result",
          "data": {
            "text/html": [
              "<div>\n",
              "<style scoped>\n",
              "    .dataframe tbody tr th:only-of-type {\n",
              "        vertical-align: middle;\n",
              "    }\n",
              "\n",
              "    .dataframe tbody tr th {\n",
              "        vertical-align: top;\n",
              "    }\n",
              "\n",
              "    .dataframe thead th {\n",
              "        text-align: right;\n",
              "    }\n",
              "</style>\n",
              "<table border=\"1\" class=\"dataframe\">\n",
              "  <thead>\n",
              "    <tr style=\"text-align: right;\">\n",
              "      <th></th>\n",
              "      <th>id</th>\n",
              "      <th>Name</th>\n",
              "      <th>Writer</th>\n",
              "      <th>Likes</th>\n",
              "      <th>Genre</th>\n",
              "      <th>Rating</th>\n",
              "      <th>Subscribers</th>\n",
              "      <th>Summary</th>\n",
              "      <th>Update</th>\n",
              "      <th>Reading Link</th>\n",
              "    </tr>\n",
              "  </thead>\n",
              "  <tbody>\n",
              "    <tr>\n",
              "      <th>0</th>\n",
              "      <td>0</td>\n",
              "      <td>Let's Play</td>\n",
              "      <td>Leeanne M. Krecic (Mongie)</td>\n",
              "      <td>30.6M</td>\n",
              "      <td>Romance</td>\n",
              "      <td>9.62</td>\n",
              "      <td>4.2M</td>\n",
              "      <td>She's young, single and about to achieve her d...</td>\n",
              "      <td>UP EVERY TUESDAY</td>\n",
              "      <td>https://www.webtoons.com/en/romance/letsplay/l...</td>\n",
              "    </tr>\n",
              "    <tr>\n",
              "      <th>1</th>\n",
              "      <td>1</td>\n",
              "      <td>True Beauty</td>\n",
              "      <td>Yaongyi</td>\n",
              "      <td>39.9M</td>\n",
              "      <td>Romance</td>\n",
              "      <td>9.60</td>\n",
              "      <td>6.4M</td>\n",
              "      <td>After binge-watching beauty videos online, a s...</td>\n",
              "      <td>UP EVERY WEDNESDAY</td>\n",
              "      <td>https://www.webtoons.com/en/romance/truebeauty...</td>\n",
              "    </tr>\n",
              "    <tr>\n",
              "      <th>2</th>\n",
              "      <td>2</td>\n",
              "      <td>Midnight Poppy Land</td>\n",
              "      <td>Lilydusk</td>\n",
              "      <td>10.4M</td>\n",
              "      <td>Romance</td>\n",
              "      <td>9.81</td>\n",
              "      <td>2.1M</td>\n",
              "      <td>After making a grisly discovery in the country...</td>\n",
              "      <td>UP EVERY SATURDAY</td>\n",
              "      <td>https://www.webtoons.com/en/romance/midnight-p...</td>\n",
              "    </tr>\n",
              "    <tr>\n",
              "      <th>3</th>\n",
              "      <td>3</td>\n",
              "      <td>Age Matters</td>\n",
              "      <td>Enjelicious</td>\n",
              "      <td>25.9M</td>\n",
              "      <td>Romance</td>\n",
              "      <td>9.79</td>\n",
              "      <td>3.5M</td>\n",
              "      <td>She's a hopeless romantic who's turning 30's  ...</td>\n",
              "      <td>UP EVERY WEDNESDAY</td>\n",
              "      <td>https://www.webtoons.com/en/romance/age-matter...</td>\n",
              "    </tr>\n",
              "    <tr>\n",
              "      <th>4</th>\n",
              "      <td>4</td>\n",
              "      <td>Unholy Blood</td>\n",
              "      <td>Lina Im / Jeonghyeon Kim</td>\n",
              "      <td>9.9M</td>\n",
              "      <td>Supernatural</td>\n",
              "      <td>9.85</td>\n",
              "      <td>1.5M</td>\n",
              "      <td>When vampires destroy her chance to have the n...</td>\n",
              "      <td>UP EVERY THURSDAY</td>\n",
              "      <td>https://www.webtoons.com/en/supernatural/unhol...</td>\n",
              "    </tr>\n",
              "  </tbody>\n",
              "</table>\n",
              "</div>"
            ],
            "text/plain": [
              "   id  ...                                       Reading Link\n",
              "0   0  ...  https://www.webtoons.com/en/romance/letsplay/l...\n",
              "1   1  ...  https://www.webtoons.com/en/romance/truebeauty...\n",
              "2   2  ...  https://www.webtoons.com/en/romance/midnight-p...\n",
              "3   3  ...  https://www.webtoons.com/en/romance/age-matter...\n",
              "4   4  ...  https://www.webtoons.com/en/supernatural/unhol...\n",
              "\n",
              "[5 rows x 10 columns]"
            ]
          },
          "metadata": {},
          "execution_count": 4
        }
      ]
    },
    {
      "cell_type": "markdown",
      "metadata": {
        "id": "kfC6xq4FcfwP"
      },
      "source": [
        "Memahami data set\n",
        "\n",
        "1. id = Nomor\n",
        "2. Name = Judul Webtoon\n",
        "3. Writer = Penulis Webtoon\n",
        "4. Likes = Jumlah suka yang didapat Webtoon\n",
        "5. Genre = Kategori Webtoon\n",
        "6. Rating = Penilaian yang didapat\n",
        "7. subscribers = Jumlah pembaca yang mengikuti cerita\n",
        "8. Summary = Ringkasan cerita\n",
        "9. Update = Tanggal webtoon update episode baru\n",
        "10. Reading links = Link untuk membaca"
      ]
    },
    {
      "cell_type": "markdown",
      "metadata": {
        "id": "0cuWAb5ida1A"
      },
      "source": [
        "Dimesi Data"
      ]
    },
    {
      "cell_type": "code",
      "metadata": {
        "colab": {
          "base_uri": "https://localhost:8080/"
        },
        "id": "xrpH29HUbZWC",
        "outputId": "800557c5-5ea1-43ab-cdef-3b838e846eba"
      },
      "source": [
        "df.shape"
      ],
      "execution_count": null,
      "outputs": [
        {
          "output_type": "execute_result",
          "data": {
            "text/plain": [
              "(569, 10)"
            ]
          },
          "metadata": {},
          "execution_count": 7
        }
      ]
    },
    {
      "cell_type": "markdown",
      "metadata": {
        "id": "SV5aniR4dk82"
      },
      "source": [
        "Variabel Pada Dataset"
      ]
    },
    {
      "cell_type": "code",
      "metadata": {
        "colab": {
          "base_uri": "https://localhost:8080/"
        },
        "id": "IYbEITyMdn1T",
        "outputId": "1cda2dc9-25c2-4911-ae3b-8deb55949ea0"
      },
      "source": [
        "df.columns.values"
      ],
      "execution_count": null,
      "outputs": [
        {
          "output_type": "execute_result",
          "data": {
            "text/plain": [
              "array(['id', 'Name', 'Writer', 'Likes', 'Genre', 'Rating', 'Subscribers',\n",
              "       'Summary', 'Update', 'Reading Link'], dtype=object)"
            ]
          },
          "metadata": {},
          "execution_count": 8
        }
      ]
    },
    {
      "cell_type": "code",
      "metadata": {
        "colab": {
          "base_uri": "https://localhost:8080/"
        },
        "id": "1WNjK4Kodwd-",
        "outputId": "c01b41f8-404d-4637-f4b4-496e02ea0832"
      },
      "source": [
        "df.dtypes"
      ],
      "execution_count": null,
      "outputs": [
        {
          "output_type": "execute_result",
          "data": {
            "text/plain": [
              "id                int64\n",
              "Name             object\n",
              "Writer           object\n",
              "Likes            object\n",
              "Genre            object\n",
              "Rating          float64\n",
              "Subscribers      object\n",
              "Summary          object\n",
              "Update           object\n",
              "Reading Link     object\n",
              "dtype: object"
            ]
          },
          "metadata": {},
          "execution_count": 9
        }
      ]
    },
    {
      "cell_type": "code",
      "metadata": {
        "colab": {
          "base_uri": "https://localhost:8080/"
        },
        "id": "l6CxGH9gd1Cj",
        "outputId": "addf27b2-9ba4-47cc-f140-c854d17cdce2"
      },
      "source": [
        "df.info()"
      ],
      "execution_count": null,
      "outputs": [
        {
          "output_type": "stream",
          "name": "stdout",
          "text": [
            "<class 'pandas.core.frame.DataFrame'>\n",
            "RangeIndex: 569 entries, 0 to 568\n",
            "Data columns (total 10 columns):\n",
            " #   Column        Non-Null Count  Dtype  \n",
            "---  ------        --------------  -----  \n",
            " 0   id            569 non-null    int64  \n",
            " 1   Name          569 non-null    object \n",
            " 2   Writer        568 non-null    object \n",
            " 3   Likes         569 non-null    object \n",
            " 4   Genre         569 non-null    object \n",
            " 5   Rating        569 non-null    float64\n",
            " 6   Subscribers   569 non-null    object \n",
            " 7   Summary       569 non-null    object \n",
            " 8   Update        569 non-null    object \n",
            " 9   Reading Link  569 non-null    object \n",
            "dtypes: float64(1), int64(1), object(8)\n",
            "memory usage: 44.6+ KB\n"
          ]
        }
      ]
    },
    {
      "cell_type": "markdown",
      "metadata": {
        "id": "otBdIqGgdv4E"
      },
      "source": [
        "**Mengecek Missing Data**"
      ]
    },
    {
      "cell_type": "code",
      "metadata": {
        "colab": {
          "base_uri": "https://localhost:8080/"
        },
        "id": "rLbJkpeYeE5K",
        "outputId": "b440cf5a-86bd-4860-9e85-56baff71e24d"
      },
      "source": [
        "df.isnull().sum()"
      ],
      "execution_count": null,
      "outputs": [
        {
          "output_type": "execute_result",
          "data": {
            "text/plain": [
              "id              0\n",
              "Name            0\n",
              "Writer          1\n",
              "Likes           0\n",
              "Genre           0\n",
              "Rating          0\n",
              "Subscribers     0\n",
              "Summary         0\n",
              "Update          0\n",
              "Reading Link    0\n",
              "dtype: int64"
            ]
          },
          "metadata": {},
          "execution_count": 11
        }
      ]
    },
    {
      "cell_type": "code",
      "metadata": {
        "colab": {
          "base_uri": "https://localhost:8080/",
          "height": 337
        },
        "id": "E8gAr9YxeRQB",
        "outputId": "26b961a2-6ffa-49df-b09e-5c2dcea047a9"
      },
      "source": [
        "sns.heatmap(df.isnull(),cbar=False,yticklabels=False,cmap = 'viridis')"
      ],
      "execution_count": null,
      "outputs": [
        {
          "output_type": "execute_result",
          "data": {
            "text/plain": [
              "<matplotlib.axes._subplots.AxesSubplot at 0x7ff349196910>"
            ]
          },
          "metadata": {},
          "execution_count": 12
        },
        {
          "output_type": "display_data",
          "data": {
            "image/png": "[encoded data removed]",
            "text/plain": [
              "<Figure size 432x288 with 1 Axes>"
            ]
          },
          "metadata": {
            "needs_background": "light"
          }
        }
      ]
    },
    {
      "cell_type": "markdown",
      "metadata": {
        "id": "KfA2gpwGfBVM"
      },
      "source": [
        "**Mengecek Outliner**"
      ]
    },
    {
      "cell_type": "code",
      "metadata": {
        "colab": {
          "base_uri": "https://localhost:8080/",
          "height": 297
        },
        "id": "pgIGAn6jfGLl",
        "outputId": "70eeb31c-b2f2-46b1-a9bf-8b24b3f5208e"
      },
      "source": [
        "df1=df.select_dtypes(include=['float64', 'int64']) \n",
        "\n",
        "sns.boxplot(x=\"variable\", y=\"value\", color='green', orient='v', data=pd.melt(df1))\n",
        "plt.tight_layout()"
      ],
      "execution_count": null,
      "outputs": [
        {
          "output_type": "display_data",
          "data": {
            "image/png": "[encoded data removed]",
            "text/plain": [
              "<Figure size 432x288 with 1 Axes>"
            ]
          },
          "metadata": {
            "needs_background": "light"
          }
        }
      ]
    },
    {
      "cell_type": "markdown",
      "metadata": {
        "id": "VCEdufbdhEJf"
      },
      "source": [
        "**Melihat Korelasi Data**"
      ]
    },
    {
      "cell_type": "code",
      "metadata": {
        "colab": {
          "base_uri": "https://localhost:8080/",
          "height": 395
        },
        "id": "cuOupY92hUFh",
        "outputId": "be13da02-b11c-4857-ebe1-a4390351108f"
      },
      "source": [
        "k = len(df1.columns)\n",
        "cm = df1.corr()\n",
        "plt.figure(figsize=(10,6))\n",
        "sns.heatmap(cm, annot=True, cmap = 'viridis')"
      ],
      "execution_count": null,
      "outputs": [
        {
          "output_type": "execute_result",
          "data": {
            "text/plain": [
              "<matplotlib.axes._subplots.AxesSubplot at 0x7ff33a9a55d0>"
            ]
          },
          "metadata": {},
          "execution_count": 16
        },
        {
          "output_type": "display_data",
          "data": {
            "image/png": "[encoded data removed]",
            "text/plain": [
              "<Figure size 720x432 with 2 Axes>"
            ]
          },
          "metadata": {
            "needs_background": "light"
          }
        }
      ]
    },
    {
      "cell_type": "markdown",
      "metadata": {
        "id": "S873yolfhNB-"
      },
      "source": [
        "**Melihat Statistik Data**"
      ]
    },
    {
      "cell_type": "code",
      "metadata": {
        "colab": {
          "base_uri": "https://localhost:8080/",
          "height": 297
        },
        "id": "ZpVzTI0Jhv7T",
        "outputId": "032b4e42-49fc-46af-983d-d33717372295"
      },
      "source": [
        "df.describe()"
      ],
      "execution_count": null,
      "outputs": [
        {
          "output_type": "execute_result",
          "data": {
            "text/html": [
              "<div>\n",
              "<style scoped>\n",
              "    .dataframe tbody tr th:only-of-type {\n",
              "        vertical-align: middle;\n",
              "    }\n",
              "\n",
              "    .dataframe tbody tr th {\n",
              "        vertical-align: top;\n",
              "    }\n",
              "\n",
              "    .dataframe thead th {\n",
              "        text-align: right;\n",
              "    }\n",
              "</style>\n",
              "<table border=\"1\" class=\"dataframe\">\n",
              "  <thead>\n",
              "    <tr style=\"text-align: right;\">\n",
              "      <th></th>\n",
              "      <th>id</th>\n",
              "      <th>Rating</th>\n",
              "    </tr>\n",
              "  </thead>\n",
              "  <tbody>\n",
              "    <tr>\n",
              "      <th>count</th>\n",
              "      <td>569.000000</td>\n",
              "      <td>569.000000</td>\n",
              "    </tr>\n",
              "    <tr>\n",
              "      <th>mean</th>\n",
              "      <td>284.000000</td>\n",
              "      <td>9.418998</td>\n",
              "    </tr>\n",
              "    <tr>\n",
              "      <th>std</th>\n",
              "      <td>164.400426</td>\n",
              "      <td>0.557571</td>\n",
              "    </tr>\n",
              "    <tr>\n",
              "      <th>min</th>\n",
              "      <td>0.000000</td>\n",
              "      <td>5.410000</td>\n",
              "    </tr>\n",
              "    <tr>\n",
              "      <th>25%</th>\n",
              "      <td>142.000000</td>\n",
              "      <td>9.310000</td>\n",
              "    </tr>\n",
              "    <tr>\n",
              "      <th>50%</th>\n",
              "      <td>284.000000</td>\n",
              "      <td>9.580000</td>\n",
              "    </tr>\n",
              "    <tr>\n",
              "      <th>75%</th>\n",
              "      <td>426.000000</td>\n",
              "      <td>9.730000</td>\n",
              "    </tr>\n",
              "    <tr>\n",
              "      <th>max</th>\n",
              "      <td>568.000000</td>\n",
              "      <td>9.930000</td>\n",
              "    </tr>\n",
              "  </tbody>\n",
              "</table>\n",
              "</div>"
            ],
            "text/plain": [
              "               id      Rating\n",
              "count  569.000000  569.000000\n",
              "mean   284.000000    9.418998\n",
              "std    164.400426    0.557571\n",
              "min      0.000000    5.410000\n",
              "25%    142.000000    9.310000\n",
              "50%    284.000000    9.580000\n",
              "75%    426.000000    9.730000\n",
              "max    568.000000    9.930000"
            ]
          },
          "metadata": {},
          "execution_count": 17
        }
      ]
    },
    {
      "cell_type": "markdown",
      "metadata": {
        "id": "6CGPt_45W-Nj"
      },
      "source": [
        "# Data Preparation"
      ]
    },
    {
      "cell_type": "markdown",
      "metadata": {
        "id": "Ltk4jWEhXFfp"
      },
      "source": [
        "**Seleksi Kolom**"
      ]
    },
    {
      "cell_type": "code",
      "metadata": {
        "colab": {
          "base_uri": "https://localhost:8080/",
          "height": 340
        },
        "id": "1ZRiqMFiXJTY",
        "outputId": "26f28ac6-9c8b-4604-cd0f-7d2b114a3ea8"
      },
      "source": [
        "df=df.drop(columns=['id', 'Summary', 'Reading Link'])\n",
        "df.head()"
      ],
      "execution_count": null,
      "outputs": [
        {
          "output_type": "execute_result",
          "data": {
            "text/html": [
              "<div>\n",
              "<style scoped>\n",
              "    .dataframe tbody tr th:only-of-type {\n",
              "        vertical-align: middle;\n",
              "    }\n",
              "\n",
              "    .dataframe tbody tr th {\n",
              "        vertical-align: top;\n",
              "    }\n",
              "\n",
              "    .dataframe thead th {\n",
              "        text-align: right;\n",
              "    }\n",
              "</style>\n",
              "<table border=\"1\" class=\"dataframe\">\n",
              "  <thead>\n",
              "    <tr style=\"text-align: right;\">\n",
              "      <th></th>\n",
              "      <th>Name</th>\n",
              "      <th>Writer</th>\n",
              "      <th>Likes</th>\n",
              "      <th>Genre</th>\n",
              "      <th>Rating</th>\n",
              "      <th>Subscribers</th>\n",
              "      <th>Update</th>\n",
              "    </tr>\n",
              "  </thead>\n",
              "  <tbody>\n",
              "    <tr>\n",
              "      <th>0</th>\n",
              "      <td>Let's Play</td>\n",
              "      <td>Leeanne M. Krecic (Mongie)</td>\n",
              "      <td>30.6M</td>\n",
              "      <td>Romance</td>\n",
              "      <td>9.62</td>\n",
              "      <td>4.2M</td>\n",
              "      <td>UP EVERY TUESDAY</td>\n",
              "    </tr>\n",
              "    <tr>\n",
              "      <th>1</th>\n",
              "      <td>True Beauty</td>\n",
              "      <td>Yaongyi</td>\n",
              "      <td>39.9M</td>\n",
              "      <td>Romance</td>\n",
              "      <td>9.60</td>\n",
              "      <td>6.4M</td>\n",
              "      <td>UP EVERY WEDNESDAY</td>\n",
              "    </tr>\n",
              "    <tr>\n",
              "      <th>2</th>\n",
              "      <td>Midnight Poppy Land</td>\n",
              "      <td>Lilydusk</td>\n",
              "      <td>10.4M</td>\n",
              "      <td>Romance</td>\n",
              "      <td>9.81</td>\n",
              "      <td>2.1M</td>\n",
              "      <td>UP EVERY SATURDAY</td>\n",
              "    </tr>\n",
              "    <tr>\n",
              "      <th>3</th>\n",
              "      <td>Age Matters</td>\n",
              "      <td>Enjelicious</td>\n",
              "      <td>25.9M</td>\n",
              "      <td>Romance</td>\n",
              "      <td>9.79</td>\n",
              "      <td>3.5M</td>\n",
              "      <td>UP EVERY WEDNESDAY</td>\n",
              "    </tr>\n",
              "    <tr>\n",
              "      <th>4</th>\n",
              "      <td>Unholy Blood</td>\n",
              "      <td>Lina Im / Jeonghyeon Kim</td>\n",
              "      <td>9.9M</td>\n",
              "      <td>Supernatural</td>\n",
              "      <td>9.85</td>\n",
              "      <td>1.5M</td>\n",
              "      <td>UP EVERY THURSDAY</td>\n",
              "    </tr>\n",
              "  </tbody>\n",
              "</table>\n",
              "</div>"
            ],
            "text/plain": [
              "                  Name  ...              Update\n",
              "0           Let's Play  ...    UP EVERY TUESDAY\n",
              "1          True Beauty  ...  UP EVERY WEDNESDAY\n",
              "2  Midnight Poppy Land  ...   UP EVERY SATURDAY\n",
              "3          Age Matters  ...  UP EVERY WEDNESDAY\n",
              "4         Unholy Blood  ...   UP EVERY THURSDAY\n",
              "\n",
              "[5 rows x 7 columns]"
            ]
          },
          "metadata": {},
          "execution_count": 20
        }
      ]
    },
    {
      "cell_type": "code",
      "metadata": {
        "colab": {
          "base_uri": "https://localhost:8080/"
        },
        "id": "kvxDT_DegCkF",
        "outputId": "5e0c05b3-d5de-4a74-f377-0abff17b59e2"
      },
      "source": [
        "df['Genre'].value_counts()"
      ],
      "execution_count": 5,
      "outputs": [
        {
          "output_type": "execute_result",
          "data": {
            "text/plain": [
              "Fantasy          95\n",
              "Romance          90\n",
              "Drama            60\n",
              "Comedy           52\n",
              "Slice of life    49\n",
              "Action           47\n",
              "Thriller         35\n",
              "Supernatural     33\n",
              "Sci-fi           32\n",
              "Superhero        26\n",
              "Horror           20\n",
              "Sports           10\n",
              "Mystery           9\n",
              "Informative       5\n",
              "Historical        4\n",
              "Heartwarming      2\n",
              "Name: Genre, dtype: int64"
            ]
          },
          "metadata": {},
          "execution_count": 5
        }
      ]
    },
    {
      "cell_type": "markdown",
      "metadata": {
        "id": "nlWEZOcBaeEM"
      },
      "source": [
        "## Data Visualization"
      ]
    },
    {
      "cell_type": "code",
      "metadata": {
        "id": "BT6p9L8nqO6E"
      },
      "source": [
        "import matplotlib.pyplot as plt\n",
        "%matplotlib inline"
      ],
      "execution_count": null,
      "outputs": []
    },
    {
      "cell_type": "code",
      "metadata": {
        "colab": {
          "base_uri": "https://localhost:8080/",
          "height": 449
        },
        "id": "XEBrbMhllmE1",
        "outputId": "d8f1f48c-0707-4326-acbe-3a2415711c3c"
      },
      "source": [
        "genre = ['Fantasi', 'Romance', 'Drama', 'Comedy', 'Slice of life', 'Action', 'Thriller', 'Suppernatural', 'Sci-fi', 'Superhero', 'Horror', 'Sport', 'Mystery', 'Informative', 'Historical', 'Heartwarming']\n",
        "jumlah = [95, 90, 60, 52, 49, 47, 35, 33, 32, 26, 20, 10, 9, 5, 4, 2]\n",
        "\n",
        "plt.figure(figsize=(12,7))\n",
        "plt.barh(genre, jumlah, color='red')\n",
        "\n",
        "plt.title('Jumlah Komik berdasarkan genre', size=16)\n",
        "plt.ylabel('jumlah genre', size=14)\n",
        "plt.xticks(size=12)\n",
        "plt.yticks(size=12)\n",
        "\n",
        "plt.show()"
      ],
      "execution_count": 8,
      "outputs": [
        {
          "output_type": "display_data",
          "data": {
            "image/png": "[encoded data removed]",
            "text/plain": [
              "<Figure size 864x504 with 1 Axes>"
            ]
          },
          "metadata": {
            "needs_background": "light"
          }
        }
      ]
    }
  ]
}
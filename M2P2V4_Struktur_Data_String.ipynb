{
  "nbformat": 4,
  "nbformat_minor": 0,
  "metadata": {
    "colab": {
      "name": "M2P2V4_Struktur_Data_String.ipynb",
      "provenance": [],
      "collapsed_sections": [],
      "authorship_tag": "ABX9TyNYjFf9eYJ91VFTP9OlIROh",
      "include_colab_link": true
    },
    "kernelspec": {
      "name": "python3",
      "display_name": "Python 3"
    },
    "language_info": {
      "name": "python"
    }
  },
  "cells": [
    {
      "cell_type": "markdown",
      "metadata": {
        "id": "view-in-github",
        "colab_type": "text"
      },
      "source": [
        "<a href=\"https://colab.research.google.com/github/adindapurwita/Pejuang_Data_3/blob/main/M2P2V4_Struktur_Data_String.ipynb\" target=\"_parent\"><img src=\"https://colab.research.google.com/assets/colab-badge.svg\" alt=\"Open In Colab\"/></a>"
      ]
    },
    {
      "cell_type": "markdown",
      "metadata": {
        "id": "62Zy4gEeemLS"
      },
      "source": [
        "# String"
      ]
    },
    {
      "cell_type": "markdown",
      "metadata": {
        "id": "uaCKb0lheqFq"
      },
      "source": [
        "String di deklarasikan dengan di apit oleh tanda petik."
      ]
    },
    {
      "cell_type": "code",
      "metadata": {
        "colab": {
          "base_uri": "https://localhost:8080/"
        },
        "id": "WMVRcd1Lekrk",
        "outputId": "26ee82cd-85cc-4c6c-bbd9-1a1cd6c946cf"
      },
      "source": [
        "# Menampilkan string dengan fungsi print()\n",
        "print(\"Hello World!\")"
      ],
      "execution_count": 1,
      "outputs": [
        {
          "output_type": "stream",
          "name": "stdout",
          "text": [
            "Hello World!\n"
          ]
        }
      ]
    },
    {
      "cell_type": "code",
      "metadata": {
        "colab": {
          "base_uri": "https://localhost:8080/"
        },
        "id": "0wFu46PZfZdd",
        "outputId": "f222a086-29cc-49a8-9c89-bd6ed9ca4b92"
      },
      "source": [
        "# Membuat variabel bertipe string\n",
        "A = \"Belajar Struktur data string\"\n",
        "print(A)"
      ],
      "execution_count": 16,
      "outputs": [
        {
          "output_type": "stream",
          "name": "stdout",
          "text": [
            "Belajar Struktur data string\n"
          ]
        }
      ]
    },
    {
      "cell_type": "code",
      "metadata": {
        "colab": {
          "base_uri": "https://localhost:8080/"
        },
        "id": "llyW5bz7gNA8",
        "outputId": "7b9debc6-e9f2-44e6-d805-0b35c43444e9"
      },
      "source": [
        "# Membuat variabel string multi-line dengan 3 tanda petik\n",
        "B= \"\"\"Belajar Python\n",
        "Pejuang data 3.0\n",
        "PSDS\n",
        "Sting\"\"\"\n",
        "print(B)"
      ],
      "execution_count": 3,
      "outputs": [
        {
          "output_type": "stream",
          "name": "stdout",
          "text": [
            "Belajar Python\n",
            "Pejuang data 3.0\n",
            "PSDS\n",
            "Sting\n"
          ]
        }
      ]
    },
    {
      "cell_type": "code",
      "metadata": {
        "colab": {
          "base_uri": "https://localhost:8080/"
        },
        "id": "SCasUn1Lgiq9",
        "outputId": "1665775a-5524-4555-a8c2-63de68ba81c4"
      },
      "source": [
        "# Menampilkan karakter tertentu dalam string\n",
        "print(A[2])"
      ],
      "execution_count": 4,
      "outputs": [
        {
          "output_type": "stream",
          "name": "stdout",
          "text": [
            "l\n"
          ]
        }
      ]
    },
    {
      "cell_type": "code",
      "metadata": {
        "colab": {
          "base_uri": "https://localhost:8080/"
        },
        "id": "zTyEQIPYgwU6",
        "outputId": "d4201c6e-c049-4b69-c062-f01ec39c479e"
      },
      "source": [
        "# Slicing pada String\n",
        "A = \"Belajar Struktur data string\"\n",
        "print(A[:5])\n",
        "print(A[3:])\n",
        "print(A[-5:])\n",
        "print(A[4:9])"
      ],
      "execution_count": 6,
      "outputs": [
        {
          "output_type": "stream",
          "name": "stdout",
          "text": [
            "Belaj\n",
            "ajar Struktur data string\n",
            "tring\n",
            "jar S\n"
          ]
        }
      ]
    },
    {
      "cell_type": "markdown",
      "metadata": {
        "id": "EYlXKfINhXWk"
      },
      "source": [
        "Latihan 1"
      ]
    },
    {
      "cell_type": "code",
      "metadata": {
        "id": "3jdO5vsfhZ8j"
      },
      "source": [
        "# Buatlah variabel string lalu lakukan slicing dengan menghilangkan karakter pertama dan terakhir"
      ],
      "execution_count": null,
      "outputs": []
    },
    {
      "cell_type": "code",
      "metadata": {
        "colab": {
          "base_uri": "https://localhost:8080/"
        },
        "id": "yledRVeyhkUu",
        "outputId": "4a13c7dd-e82c-42b6-ec13-3de7dfb2449a"
      },
      "source": [
        "A = \"Matematika\"\n",
        "print(A[1:9])"
      ],
      "execution_count": 14,
      "outputs": [
        {
          "output_type": "stream",
          "name": "stdout",
          "text": [
            "atematik\n"
          ]
        }
      ]
    },
    {
      "cell_type": "markdown",
      "metadata": {
        "id": "yGymgqiflCAM"
      },
      "source": [
        "Memodifikasi String"
      ]
    },
    {
      "cell_type": "code",
      "metadata": {
        "colab": {
          "base_uri": "https://localhost:8080/",
          "height": 35
        },
        "id": "FlEch5kEiEe9",
        "outputId": "c205689a-7501-4838-8b33-dfd323ac5add"
      },
      "source": [
        "# upper()\n",
        "A.upper()"
      ],
      "execution_count": 17,
      "outputs": [
        {
          "output_type": "execute_result",
          "data": {
            "application/vnd.google.colaboratory.intrinsic+json": {
              "type": "string"
            },
            "text/plain": [
              "'BELAJAR STRUKTUR DATA STRING'"
            ]
          },
          "metadata": {},
          "execution_count": 17
        }
      ]
    },
    {
      "cell_type": "code",
      "metadata": {
        "colab": {
          "base_uri": "https://localhost:8080/",
          "height": 35
        },
        "id": "egujdvOVlPcN",
        "outputId": "ec47ad07-e992-4502-f85c-ea5500921473"
      },
      "source": [
        "# lower()\n",
        "A.lower()"
      ],
      "execution_count": 18,
      "outputs": [
        {
          "output_type": "execute_result",
          "data": {
            "application/vnd.google.colaboratory.intrinsic+json": {
              "type": "string"
            },
            "text/plain": [
              "'belajar struktur data string'"
            ]
          },
          "metadata": {},
          "execution_count": 18
        }
      ]
    },
    {
      "cell_type": "code",
      "metadata": {
        "colab": {
          "base_uri": "https://localhost:8080/",
          "height": 35
        },
        "id": "lbMfNGv-lU8I",
        "outputId": "dccd6724-bd05-440b-d147-8d2e794e939b"
      },
      "source": [
        "# strip()\n",
        "A.strip()"
      ],
      "execution_count": 19,
      "outputs": [
        {
          "output_type": "execute_result",
          "data": {
            "application/vnd.google.colaboratory.intrinsic+json": {
              "type": "string"
            },
            "text/plain": [
              "'Belajar Struktur data string'"
            ]
          },
          "metadata": {},
          "execution_count": 19
        }
      ]
    },
    {
      "cell_type": "code",
      "metadata": {
        "colab": {
          "base_uri": "https://localhost:8080/",
          "height": 35
        },
        "id": "YsWTfZkklbLq",
        "outputId": "6a90ae7e-9be3-4d22-92d0-7dab8fff9596"
      },
      "source": [
        "# replace()\n",
        "A.replace('1', 'd')"
      ],
      "execution_count": 20,
      "outputs": [
        {
          "output_type": "execute_result",
          "data": {
            "application/vnd.google.colaboratory.intrinsic+json": {
              "type": "string"
            },
            "text/plain": [
              "'Belajar Struktur data string'"
            ]
          },
          "metadata": {},
          "execution_count": 20
        }
      ]
    },
    {
      "cell_type": "code",
      "metadata": {
        "colab": {
          "base_uri": "https://localhost:8080/"
        },
        "id": "Ud0apqMZlj99",
        "outputId": "925cff36-39a4-45c3-fc6e-f7f4c6e877d6"
      },
      "source": [
        "# split()\n",
        "A.split()"
      ],
      "execution_count": 21,
      "outputs": [
        {
          "output_type": "execute_result",
          "data": {
            "text/plain": [
              "['Belajar', 'Struktur', 'data', 'string']"
            ]
          },
          "metadata": {},
          "execution_count": 21
        }
      ]
    },
    {
      "cell_type": "markdown",
      "metadata": {
        "id": "_5W_RnIllqP5"
      },
      "source": [
        "# Menggabungkan String"
      ]
    },
    {
      "cell_type": "code",
      "metadata": {
        "colab": {
          "base_uri": "https://localhost:8080/",
          "height": 35
        },
        "id": "-EFp5bX2luJz",
        "outputId": "532b9d7c-877b-4082-d860-6593ee3103f5"
      },
      "source": [
        "A = \"Belajar Struktur data string\"\n",
        "B = \"Pejuang Data 3.0\"\n",
        "A + \" \" + B"
      ],
      "execution_count": 22,
      "outputs": [
        {
          "output_type": "execute_result",
          "data": {
            "application/vnd.google.colaboratory.intrinsic+json": {
              "type": "string"
            },
            "text/plain": [
              "'Belajar Struktur data string Pejuang Data 3.0'"
            ]
          },
          "metadata": {},
          "execution_count": 22
        }
      ]
    },
    {
      "cell_type": "markdown",
      "metadata": {
        "id": "ZZknTnanhjsh"
      },
      "source": [
        ""
      ]
    },
    {
      "cell_type": "markdown",
      "metadata": {
        "id": "ODItXtJpl8UI"
      },
      "source": [
        "Latihan 2"
      ]
    },
    {
      "cell_type": "code",
      "metadata": {
        "id": "VjdJWk1Kl-VT"
      },
      "source": [
        "# Ganti semua huruf vokal menjadi \"i\" pada string yang telah kalian buat pada latihan 1"
      ],
      "execution_count": null,
      "outputs": []
    },
    {
      "cell_type": "code",
      "metadata": {
        "id": "Ljf-caQwmM_J"
      },
      "source": [
        "A = \"Matematika\""
      ],
      "execution_count": 23,
      "outputs": []
    },
    {
      "cell_type": "code",
      "metadata": {
        "colab": {
          "base_uri": "https://localhost:8080/",
          "height": 35
        },
        "id": "R0kqf2EpmRaO",
        "outputId": "2fec902b-9422-4893-cd9c-0f2b10b4d6d1"
      },
      "source": [
        "A.replace('a', 'i')"
      ],
      "execution_count": 44,
      "outputs": [
        {
          "output_type": "execute_result",
          "data": {
            "application/vnd.google.colaboratory.intrinsic+json": {
              "type": "string"
            },
            "text/plain": [
              "'Mitemitiki'"
            ]
          },
          "metadata": {},
          "execution_count": 44
        }
      ]
    }
  ]
}
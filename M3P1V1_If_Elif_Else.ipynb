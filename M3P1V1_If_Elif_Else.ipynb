{
  "nbformat": 4,
  "nbformat_minor": 0,
  "metadata": {
    "colab": {
      "name": "M3P1V1_If_Elif_Else.ipynb",
      "provenance": [],
      "collapsed_sections": [],
      "authorship_tag": "ABX9TyPp7dYP2385QyKAssO5x/AB",
      "include_colab_link": true
    },
    "kernelspec": {
      "name": "python3",
      "display_name": "Python 3"
    },
    "language_info": {
      "name": "python"
    }
  },
  "cells": [
    {
      "cell_type": "markdown",
      "metadata": {
        "id": "view-in-github",
        "colab_type": "text"
      },
      "source": [
        "<a href=\"https://colab.research.google.com/github/adindapurwita/Pejuang_Data_3/blob/main/M3P1V1_If_Elif_Else.ipynb\" target=\"_parent\"><img src=\"https://colab.research.google.com/assets/colab-badge.svg\" alt=\"Open In Colab\"/></a>"
      ]
    },
    {
      "cell_type": "markdown",
      "metadata": {
        "id": "Pl3d9fnE5ucF"
      },
      "source": [
        "\n",
        "# **Percabangan/ Struktur Pemilihan**"
      ]
    },
    {
      "cell_type": "markdown",
      "metadata": {
        "id": "ToyxjUi752jr"
      },
      "source": [
        "Pada bagian ini, kamu akan membuat keputusan pada bahasa pemrograman Python menggunakan struktur percabangan atau sering juga disebut IF ELSE Statement. Pengambilan keputusan dibtuhkan ketika kamu akan mengeksekusi suatu kode jika sebuah kondisi tertentu dipenuhi.\n",
        "\n",
        "Statement ```if..elif..else``` digunakan untuk bahasa Python untuk pengambilan keputusan."
      ]
    },
    {
      "cell_type": "markdown",
      "metadata": {
        "id": "3YBuAemv6cO4"
      },
      "source": [
        "# IF Statement\n"
      ]
    },
    {
      "cell_type": "markdown",
      "metadata": {
        "id": "s9mXAuIB6gbl"
      },
      "source": [
        "Python IF Statement Syntax"
      ]
    },
    {
      "cell_type": "code",
      "metadata": {
        "id": "wbZ4qGpoKgj-"
      },
      "source": [
        "if test expression:\n",
        "  statement(s)"
      ],
      "execution_count": null,
      "outputs": []
    },
    {
      "cell_type": "markdown",
      "metadata": {
        "id": "FbWzaPKhKxx4"
      },
      "source": [
        "**Python IF Statement Flowchart**\n",
        "\n",
        "\n",
        "![Python_if_statement.jpg](data:image/jpeg;base64,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)"
      ]
    },
    {
      "cell_type": "markdown",
      "metadata": {
        "id": "H7oCzyQE8y7Y"
      },
      "source": [
        "**Example: Python IF Statement**"
      ]
    },
    {
      "cell_type": "code",
      "metadata": {
        "id": "RQ8o_UUr6pFm"
      },
      "source": [
        "# JIka angka adalah bilangan positif maka print \"adalah bilangan positif\"\n",
        "\n",
        "angka = 3\n",
        "if angka > 0:\n",
        "  print(angka, \"adalah bilangan positif.\")\n",
        "print(\"Pernyataan ini selalu ditampilkan.\")\n",
        "\n",
        "angka = -1\n",
        "if angka > 0:\n",
        "  print(angka, \"adalah bilangan positif.\")\n",
        "print(\"Pernyataan ini juga selalu ditampilkan.\")"
      ],
      "execution_count": null,
      "outputs": []
    },
    {
      "cell_type": "markdown",
      "metadata": {
        "id": "EU5iqVWj9dCk"
      },
      "source": [
        "\n",
        "# IF ELSE Statements"
      ]
    },
    {
      "cell_type": "markdown",
      "metadata": {
        "id": "cz0TOQ-j9mW6"
      },
      "source": [
        "Python IF ELSE Statement Syntax"
      ]
    },
    {
      "cell_type": "code",
      "metadata": {
        "id": "L8yGNZzQ9sei"
      },
      "source": [
        "if test expresson:\n",
        "  Body of if\n",
        "else : \n",
        "  Body of else"
      ],
      "execution_count": null,
      "outputs": []
    },
    {
      "cell_type": "markdown",
      "metadata": {
        "id": "KZiji07a926F"
      },
      "source": [
        "**Python IF ELSE Statement Flowchart** \n",
        "\n",
        "![Python_if_statement.jpg](data:image/jpeg;base64,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)"
      ]
    },
    {
      "cell_type": "code",
      "metadata": {
        "colab": {
          "base_uri": "https://localhost:8080/"
        },
        "id": "kDeZpK1K-qJs",
        "outputId": "bf913f66-a1d8-4126-e631-b810daf94755"
      },
      "source": [
        "# Program disusun untuk mengecek apakah angka tersebut kurang dari 0 atau tidak \n",
        "# dan menampilkan tulisan yang sesuai\n",
        "\n",
        "angka = 3\n",
        "if angka >= 0:\n",
        "  print(\"Bilangan lebih dari atau samadengan 0\")\n",
        "else:\n",
        "  print(\"Bilangan kurang dari 0.\")\n",
        "  "
      ],
      "execution_count": null,
      "outputs": [
        {
          "output_type": "stream",
          "name": "stdout",
          "text": [
            "Bilangan lebih dari atau samadengan 0\n"
          ]
        }
      ]
    },
    {
      "cell_type": "code",
      "metadata": {
        "colab": {
          "base_uri": "https://localhost:8080/"
        },
        "id": "S-iiLk9m_Lsr",
        "outputId": "ed55e790-8486-41f2-f11c-affa37b51f9f"
      },
      "source": [
        "# Program disusun untuk mengecek apakah dua buah angka sama atau tidak\n",
        "# dan menampilkan tulisan yang sesuai\n",
        "\n",
        "a = 5\n",
        "b = 5\n",
        "\n",
        "if a==b:\n",
        "  print(\"a dan b bernilai sama\")\n",
        "else:\n",
        "  print(\"a dan b bernilai berbeda\")\n",
        "  print(\"Belajar If Else\")"
      ],
      "execution_count": null,
      "outputs": [
        {
          "output_type": "stream",
          "name": "stdout",
          "text": [
            "a dan b bernilai sama\n"
          ]
        }
      ]
    },
    {
      "cell_type": "code",
      "metadata": {
        "colab": {
          "base_uri": "https://localhost:8080/"
        },
        "id": "3wnV2ZAD_rum",
        "outputId": "4886b546-0fb0-41c3-f50f-6a277cea7e69"
      },
      "source": [
        "# Program disusun untuk mengecek apakah perbandingan dua buah angka\n",
        "# dan menampilkan tulisan yang sesuai\n",
        "\n",
        "# membaca dua angka\n",
        "bil1 = int(input(\"Masukkan bilangan pertama: \"))\n",
        "bil2 = int(input(\"Masukkan bilangan kedua\"))\n",
        "\n",
        "# memilih bilangan yang lebih besar\n",
        "if bil1 > bil2:\n",
        "  bil_lebih_besar = bil1\n",
        "else: \n",
        "  bil_lebih_besar = bil2\n",
        "\n",
        "#menampilkan hasil\n",
        "print(\"Bilangan yang lebih besar adalah:\", bil_lebih_besar)"
      ],
      "execution_count": null,
      "outputs": [
        {
          "output_type": "stream",
          "name": "stdout",
          "text": [
            "Masukkan bilangan pertama: 3\n",
            "Masukkan bilangan kedua5\n",
            "Bilangan yang lebih besar adalah: 5\n"
          ]
        }
      ]
    },
    {
      "cell_type": "markdown",
      "metadata": {
        "id": "liDPh3dDF3j0"
      },
      "source": [
        "# IF ELIF ELSE Statements\n"
      ]
    },
    {
      "cell_type": "markdown",
      "metadata": {
        "id": "u5YSE_0OF_98"
      },
      "source": [
        "**Python IF ELIF ELSE Statement Syntax**"
      ]
    },
    {
      "cell_type": "code",
      "metadata": {
        "id": "h6Tu02MTFvlj"
      },
      "source": [
        "if test expression:\n",
        "  Body of if\n",
        "elif test expression:\n",
        "  Body of elif\n",
        "else :\n",
        "  Body of else"
      ],
      "execution_count": null,
      "outputs": []
    },
    {
      "cell_type": "markdown",
      "metadata": {
        "id": "SPFHhhk4GWl7"
      },
      "source": [
        "**Python IF ELIF ELSE Statement Flow Chart** \n",
        "\n",
        "![Python_if_statement.jpg](data:image/jpeg;base64,/9j/4AAQSkZJRgABAQAAAQABAAD/2wBDAAUDBAQEAwUEBAQFBQUGBwwIBwcHBw8LCwkMEQ8SEhEPERETFhwXExQaFRERGCEYGh0dHx8fExciJCIeJBweHx7/2wBDAQUFBQcGBw4ICA4eFBEUHh4eHh4eHh4eHh4eHh4eHh4eHh4eHh4eHh4eHh4eHh4eHh4eHh4eHh4eHh4eHh4eHh7/wAARCAD6AOMDASIAAhEBAxEB/8QAHAABAAIDAQEBAAAAAAAAAAAAAAUGAgQHAwgB/8QASRAAAQQCAAMDBgkJBgQHAAAAAQACAwQFEQYSIQcTMRQVQXWz0xYzNlFUYXKWsSIyN0RWZZGU4QgjVWJxlUJSgbQkJjVDc3aC/8QAFgEBAQEAAAAAAAAAAAAAAAAAAAEC/8QAGhEBAQEBAQEBAAAAAAAAAAAAABEBMQIhQf/aAAwDAQACEQMRAD8A+y0REBERAREQEREBERBGutzDiaOhsdy6m+YjXXmD2gdf9CVJKGk+W0Pq1/tWKZQEREBERAREQEREBERAREQEREBERAREQEREBERAREQEREBEWnkchSx0LZr1qOBrncrOY9Xu9DWjxcT6AASfQEFHn4+4fZ2uxcNmS35xFc1e7FZ+udzmPB3rWuUE78NLoi5nJw+Je1WLtEbgrvcMoGtosaJjIegn7snm0IyWEEB/Qaar/jclRyUTpKVlk3du5ZGjYdG7x5XNOi09fAgFX1nIzlbqIijQiIgIiICIiAiIgIiICIiAiIgIiICIiAiIgIijclmKOPlbXlkdJaeNx1oWGSZ43rYYOoGyNuOgN9SEEktHKZWhjQzyywGSSb7qJrS+WUgbIYxoLnH6gCtDkz2S0ZHjC1j15GFstlw6dC4gsZ6QQA/p1DgVu4zE4/HF76tfUsmhJM9xklk14cz3Eudr0bJ0kwaXeZ7JdIWDDVj07yQNksuHUbDOrGegguL/AJi0FbeNw9GjMbLI3TW3DTrU7jJMQTsjmPUDfXlGgPQApJEBRuSw9DISssTQujtMHLHaheY5mDYOg9ujykgbadg66gqSRBBB2expAkaM1WH/ABNDYrLfDxHRj/SSRya0AASt7G5ahkS9lWf++jA7yCRpZLHvw5mOAI36CRo+ja31oZPFUMkGeWVw+SPZilY4skjJGiWPaQ5p16QQnRvooLus9jfyoJRmaw691MWxWWjqdNeAGP8AQAHBh9JeVt47M0bs5rNe+C23ZdWnYY5QB4nlPiP8w2D6CUEkiIgIiICIiAiIgIiICIiAiIgIih7WdrNsvp0IpclbY7lfFVAIjPTo95IYw6IOiQSPAFJRMKKv5unVsmnGJbt0AHyWq0PkGwSC7wDAdHReQPrWv5vyuSbvLXvJYSOtShI5u/n5ptB5/wDyGfMdqTx9KpQrCvSqxVog4nkjYGgknZPTxJPifE+lBG+S5vJHd20MZWP6vUdzTOHX86Ujpsa2GAEHweVIY3G0cbE6OlWZDznmkcOrpD87nHq4/WST9a3EQEREHlYmhgiMs8jImDW3PcABvp1J6eK8YMhQnkEUF2tLId6ayVpJ149AVjmMZjszjJ8ZlqNa/RsN5Zq9iMSRyDe9OaQQRsDoQvnzsnwmO4Y7N+0nizhHhDFScT4rNZ2HFvhoNMwbHI7u4W8oDiwaADAeoAA9CD6QWL3NY3mcQ0DxJOl89cL8YcZOx9u/H2hcKysfwrPO5uQyrLD6+QjIBne2OvF3ULHPDXg7AOtNGjuqcdZ7M8QdifaHg8hm8zcyGKwlae6+O3Su0nP5yXhs0UTSC4DmLCAQ3kI5STsPrJFC8G2aVzhmjbx+cGcqyxh0d0SRyCUH/NGA0geHQejrsqaQFqZDH0sjCIbtaOdjSHN529WuHgQfEEfONELbRBB+RZnG6OPtjIVh+rXXkSNHToyYAk6G+jw4knq8Be1DOU7FhtOwybH3neFW00Me462eQglr9eksJA9JUste9Tq36zq12vFYhd4xysDmn/oUGwigzjcnjtuw98zRDr5Hfe57fT0ZL1ezZ1484AGgAs6+erCdlXJRS4u093LGyzoNkPoDJASxxOiQAebXiAkEyoji/P0OFuF8lxHle+8ix1d9mx3TeZwY0bJA6bOh4bUuqj2xYK/xN2V8TcO4pjH3sjjZq1dr38rS97SBsnwGz4oPThvjWpmK8tqXD5jD0mVxY8sycDIYHMOuofzkeBB66Gl+8S8c4DEcFZriutdr5eph6r7NllCwyR2mgkgEHQJAOtkKtN4BscO9ltyrwVQqxcUy4uKJpyFiSxC+ZoBId3jnA9QeuvHRKpl7sx4uvU+0VzKPdScR8MQY6o2zahMhsNM3NzmNoa0f3jdEb6A9fAIO1T8RYSrHUOQytChJbibJFFZssje4EDWgSCep109K9reaw9O9FQuZahXuS67qCWwxkj9nQ00nZ6/MFxvjzs94ttcRvzHCdSWnlbNWnUsT2bFWfH2IowARPDLG6QBofKNREc++pBOxhxF2YZyxxPxkLtC3m8TxHchvxPqZGKqYnsYxgZJzsL28hiY5j2EkfMCNkO8IsWDlaG7J0NbJ6lZICIiCs8RUMvNkBOTJkMUGAOx1eUV5CRsk8xIEu+g5C5jdb3zeCkMDfxEsfm/HBlR0DetIxdy+JuyPiyAQ3YOiBo+glSy0spjKGSjay7WbLyEmN+y18Z1rbHjRYdb6gg/WrUjdRQZr5vG9alhuVrA/E2XBk7R/lkA07Q8A4An0vXvjs3St2RTf3tO9y7NS03kl0NbLRsh4G9FzC5u+m1CpVERFU7FdpfA+VyMWPx3EMFmzLMa8bGRyHcgcWlu+XWwQQevQhXFfOvYJieI+H7UFTLSdoVIOzF2Tzc3Hw+bCyWeQse+Qx94AQ4PP5fQ/V0Unwvi+LYu1xty9U4h+AXl878RWknmdJBaeGAyTx8nMKxPeGNr3EMJ2QByhgd3WLWtbvlaBs7Oh4lfMvCMGazrcPawsPEc2eqcdW+/yT55/JIcfHdnEsZLiYy0xDkDACdlvhrYvQ4a4mt4PjvJ42xmKnErbuUiwPf2pY4QJGARvbGTyHZ1yvIOtdCBvYdcZBXY+SRsMbXSdXuDQC7/U+n/qv2CvBBEYoYY42He2saAOvj0C+f8AgPCZiPGWZmZLjHE5F3DjqV+CHCWGFlktYROHTSyCWw0vJD2El45gSSBqKwGL4kk7OuIsIIM7jaxpV2R8RUcZkWWLTxI7na+nM82CeVgD3xkEh50d60H0Rl8pRw0VU2mWAyzajqxCCs+U87zobDAS1u/FxAAHUkDqpJcF4Sh4pfgsQz4N28dDFxXRcJqsduNlut3RMkxrzkyQMBOiHnWxs/OYzifFcYTZDOMjxXEPw4l4qimxOQgdP5G3GNsQkf3nMYo2CHma+M6LnF+muGyg+jUXBOKuGOIbjO0TKyVuIn3YM9VscPiCxYAEYjrBzoo2O0RzCXegf+LfQnfe0BEUZkc1Rp2BU5n2bhGxVrtMkuj4Egfmj/M4gfWgk1F5zIYqvEaWRLJnWGkCoIzM+UeB1GAS4dRs60N9SFr9znckQbEow9Y9e6gIksOHT855BYz0ghocfSHhb2MxdDGteKdYRukIMkriXSSkDQL3klzjrpsklOCv4/GZ5tkSYqfzHj9HVO2PKiT84aHARAa6BryNH80FSnkfE3+PUP8AbD71TSIkQvkfE3+PUP8AbD71PI+Jv8eof7YfeqaRCIXyPib/AB6h/th96nkfE3+PUP8AbD71TSIRC+R8Tf49Q/2w+9WL6nEzWOd5+oHQJ/8ATD71Tiwl+Jf9k/ghEbwvbnyfDWLyVnlE9qnDPII9tbzOYHHQ66Gz86Lx4B+QuA9WVvZNRVE2iIo0LVyFGnfr+T3asVmLmDgyRuwCDsEb8CD1BHUehbSIIMUMtjRvF3fLIB+q3nkkeHRs2i4ek/lh5JPiAvWnnaj7LKd2OXHXXnTILQDTIevRjgSx50CdNJIHiApdeF2rWu1n1blaKxBINPjlYHNcPmII0Uo90UH5rv488+FvO7ofqdxxkjP1Nf1ez0elzQBoNCziz0MMra+Xgkxc73BrTOQYZCToBko/JJJPQHTj8yQbWGxWOw9V9XF0oacD5pJ3MiaGgyPcXPeR85cSSfSSSt9EQEREBEUNYz1d07q2LhlylljuV7a+jHGd6IfISGNI9I2Xa8AUgmVE3s7UgsPp1mTZC6z86tVaHOYdbAeSQ1m/Rzkb9G14jGZLI/lZm8Y4vodF7mM9HR0nR7+oPhyAg6LSpSjUq0azKtOtFWgYNNjiYGtH+gHRBFmlmMjvzjcGPrn9WovPO4dR+VMQCNjR0wNII/OIUhjsfSx0Pc0a0deMuLiGN1zOPiSfEknqSdk+lbiICIiAiIgIiICIiAsJfiX/AGT+CzWEvxL/ALJ/BBD8A/IXAerK3smonAPyFwHqyt7JqIym0REaEREBERAXnNHHNE6KWNsjHghzXDYIPoIPiF6IggvMctAh2AuuotH6pK0y1iOnQMJBj6DQDCGjey0r9GeNTTM7UdjD4eUc/eVifqkAHKPthm/RtTi/HAEaIBB8UoxD2lgeHNLSN7301/qoZ+eFpxiwVR2TkBIMzXclZh+uUgg9RohgeR6QFGyYHE/C2Or5Lqk+m+Z1LncKxkEjRzmHfJvqeuupO/HqrYxrWtDWtAaB0ACvBCHC2Lx589edaYf1SAGKuPqcAS6TodEOJadb5QpivDDXhZBBEyKJgDWMY0BrQPAADwC9UUoIiICIiAiIgIiICIiAiIgLCX4l/wBk/gs1hL8S/wCyfwQQ/APyFwHqyt7JqJwD8hcB6sreyaiMptERGhERAREQEREBERBVOJMocRxGy63G5DI6oOb3FGESSncrBsAkdB6eq0uB+0vDcXV57lLG5iljoDK2S/erthrh8T+R7OfmI2HAj5uh6qfk+W0Pq1/tWLl2K7O+JoP7N/FHA0sFZuZyRyfk7O+BYfKJpHx7d4Do8b+Yg+KDrjMri3yMjZkqbnuk7prRO0lz9A8oG+p0QdeOjtJspjYa09uXI1I69d5jnldM0MicNba4k6BGx0OvELm/G/BeVrRcDX+D+H8bJPgswy7epNlZV71rq0kL3B4aQXjnB6+OtbUDluz7jjI4QWu6gp3oONJc4/Hw3wW2a72lgAlLNB4DucBzNbbo66FB2nG36OSqNt465WuV3EhssEokYSDo6I2DorbVL7K+H5MHTysktDI0JL991l8Vy8yy5zixoLxyAMZsj80bHTfiSrogIiICIiAiIgIiICIiAsJfiX/ZP4LNYS/Ev+yfwQQ/APyFwHqyt7JqJwD8hcB6sreyaiMptERGhERARV7H8U1shQr36ONy09WzE2aGVtUgPY4AtcNkHRBB6j0rY8/fubMfyv8AVIlTKKG8/fuXMfyv9U8/fuXMfyv9UKmUUN5+/cuY/lf6p5+/cuY/lf6oVBy8WcNN7S4sUc1SF4VXVjXMo5+9L2EM185A8FdQuPz8MNk7c4uOvMuV8lbRPMDBs+Ugcg/J34ch3sHxH1ro/n79zZj+V/qtesz5EyplFDefv3LmP5X+qefv3LmP5X+qytTKKG8/fuXMfyv9U8/fuXMfyv8AVCplFDefv3LmP5X+q/aWdq2crHjHVrtW1LBJYjZYhLA9kbmNeQeo6GRnQ/8AN9R0hUwiIiiIiAiIgIiICwl+Jf8AZP4LNYS/Ev8Asn8EEPwD8hcB6sreyaicA/IXAerK3smojKbRERoREQVvss/Rnwt6mqexYrIq32Wfoy4W9TVPYsVkTepgiwkkZHG6SRwYxoJLnHQAHzleVa5UtcwrWYJ+XXN3bw7W/Dej0RWwiLWtXqVWWCO1brwSWH93C2SQNMj/APlaCep+odUGyiIgItbIXqWPqutX7depXZ+dLPIGMH+pJAC87OSx1bGjJ2chVho8rXeUyTNbFpxAaeYnWjsaO+uxrxQbqLSlymNiyEGPlyFRlycc0NczNEkgAJJa3eyNA9QPQt1APgq3kf0m4T1NkfbUlZD4Kt5H9JuE9TZH21JM6m8WRERFEREBERAREQFhL8S/7J/BZrCX4l/2T+CCH4B+QuA9WVvZNROAfkLgPVlb2TURlNoiI0IiIK32Wfoy4W9TVPYsVkVb7LP0ZcLepqnsWKyJvUzij9v/AOgzjv8A+vXvYPXCuxdvD1PtQ4PucKxcJ5W0/hqeC43heMV/Jn8jH893lLw8vc0MALgQ7Z04bLPqxwDmkOAIPiFiyOOPfJG1u/HlAG0V87dnnH3FN+fs7tfCafMZrPWrUfEGCcyJraMbWvLnBjWB8Pcvaxn5ZO+bR2SCqtieKLPFmf7MclmeNJMhxD8MpvOWA/uGtxLgyw1sXI1gkHIGFoc5xD9k9emvrBkELJnyshY2R/57w0Au14bPpRkEDXOc2KNrnO5yQ0Ak61s/OfrQcQ4K4v41yXadF2a3793y/AZO5dzF7yJgZcxp60m83KGtL++aDyjm/wDDv6+JNp7aeIMph8rwdj4cvLgsLlMq6DLZZgYDXYInOiZzvaWM7yQNZsjfXQIJBVswvC2KxHE2b4iriaTJZp0Rtyyv5iGxN5WMb0/JYAT0HTZJ8SSZuaOOWN0csbZGOGi1wBBH1g+KD5wmtZfjjhHANyuduXcdU4/jpY3Jtr19ZWo07isOa+ItJB5gHsAa4guA0RrrXbLYlxHZTk5aZj54GQMZ3kLHt130bTthBaehPTWh6ANBXURxhjWBjQ1muUa6DXhr5tLJ7WvbyuAcD4gjaDkHBWLJ/tO8f25b1mbuMZinRRvZEWta8WRyAhgcGgjY0d7J2SNAdhWIaA4uAAJ8TrxWSAfBVvI/pNwnqbI+2pKyHwVbyP6TcJ6myPtqSZ1N4siIiKIiICIiAiIgLCX4l/2T+CzWEvxL/sn8EEPwD8hcB6sreyaicA/IXAerK3smojKbRERoREQVvss/Rnwt6mp+xYrIq3jOFjjcdWx9HP5mCrViZBBGHQkMY0ANAJjJOgANkk9FteYrX7TZr+MHuldTPiaRQvmK3+02a/jB7pPMVv8AabNfxg92sxU0ihfMVv8AabNfxg92nmK3+02a/jB7pWCaRUzi6pksXiobNXiXL94/I0qx5u4I5JrUUT//AGvHledH0HRUwMHa/abNfxg90kSptFC+Yrf7TZr+MHu08xW/2mzX8YPdqRU0ihfMVv8AabNfxg92nmK3+02a/jB7tWCaVbyP6TcJ6myPtqS2vMVr9ps1/GD3SUcAyvmI8rPkb96zFXkrxGw5mmNkcxz9BjR1JiZ1O9a6eJVxN+ppERRRERAREQEREBYS/Ev+yfwWawl+Jf8AZP4IIfgH5C4D1ZW9k1E4B+QuA9WVvZNRGU2iIjQiIgIiICIiAiIgrfaL8n6vrnF/9/XVj9CqnanZZS4SbclbK6ODKY2RzY2Oe8ht6AkNaAS46HQAbJ6BU7AduWHzPGbcFWwWYZXEb3PnNWSSYOb6BDE17tfOSRr0gLWed9ZcZ3czXXUVb+GmH+h8R/dy/wC5X78NMP8AQ+I/u5f9yszVqxoq58NMP9D4j+7l/wBynw0w/wBD4j+7l/3KTSrGirnw0w/0PiP7uX/cp8NMP9D4j+7l/wByk0qxoq58NMP9D4j+7l/3KfDTD/Q+I/u5f9yk0qxoq58NMP8AQ+I/u5f9ynw0w/0PiP7uX/cpNKsaKufDTD/Q+I/u5f8Acp8NMP8AQ+I/u5f9yk0qxoq58NMP9D4j+7l/3KfDTD/Q+I/u5f8AcpNKsawl+Jf9k/gq/wDDTD/Q+I/u5f8AcrCTjTDmNzRS4j6ggf8Aly/83/wqzStvgH5C4D1ZW9k1FnwXBPV4OwtaxE6KaLHwMkjd+SWOEbQQR6NFERMIiKNCIiAiIgIiICIiCt9ovyeq+ucX/wB/XUu7F412TZlHY+qb7GFjLJhb3oafEB2t6+rar3ahfo08FTZbu1qzn5fGvaJZQ0uDb0BcRsjYA6k+gdSrTBLFPCyaCVksb2hzHsO2uB6gg+BB+dX8T9eqIiiiIiAiIgIiICIiAiIgIiICIiAiIgIiICLws2a9ZgfYsRQsJ0HSPDQT82ysa9ypYldHXtQTPY0Pc2OQOIDt6JAPQHR0fT1QbKIta5dpUgw27dev3juWPvZA3mPzDZ6n6kGyiIgIi17NqvWjMlmxFDGHBhdI8NALiAASfSSRr59hBzf+0NwLPxrw7jW4+EPvVb8YDtHbYpHBkh6egfkuP1MK6Ni6VfG42rjqjBHXqwthiaP+FjQAB/ABbKfWrvrdyJmfa/UX4SANkgAeO1pRZXFy0DkIslUkpg6M7Z2mMHYGuYHXiQPHxKit5Fqw3qc12WnDcryWYADLC2QF8YPgXN3sb+sLYJDeriBv8UGSIsWkOGwQQfAg7QZIiICIsWua4BzSHA+kHaDJERAREQEREBERAREQULtc4Tv8WW+EI6jWdxjs55Xce5sbyyLyWxHsNkBa480jOhB6bOuii+LsZxHiMdlX4+7PBjovNTWPZbiqukiZMfKmsIAbE5zCBsBgO9At8R1FEHOOziXJ5GrjL/d5x9MZPIcr57zuVkPM5sXeB5Lp2dNMIJHg4Eggr8434Xu3eOLmYs8OV+JsbbwJxkNSQQg1pDI90hJkI2yUGMHWyO6HQ7XSEQcIx2F4+o5CHg+HJZm3bxfDWEbFfjtmOtHZE1ltiSQF4Mu2RsBbp5IA2BsEz0GF7RvKM6+3cyT7MvnMU5ILTRXkikLzTaAZh3b2DuxtsTTsEl52Sesog5bxlhON24+nV4fdlJpmVDI635yPP5TsbY4GZjOXQPUteNnWgNk6EnB3F1Li/i6/iWXYzl+IMbfgstyA7k1YzSbZjcwv2HlkMwH5BHL0DhsBdhRByqpie0Nt/ICaXIGd0uUcbJyDTWlheX+Qsij5v7t7AYwTyN0WuJLtgqZ7PcPxXi+Icg7M3bljGTYvHiFtm335bcaJfKiNkloO4vA6JB0PnviIOTt4f45uRZSjdkyZNmDKxWZnZMGGy2VzvJBAGuBhLWloJDWEaILnn8oztTh7LYzsixGAxjbbMjWhotka64XyNLZY3TDvHOOwAHjxIIGhsaCvaIKX2acNWcBf4rs2m2mvymcmtxGa6+cOiIbyloLiGDZcOUAaAA1oBULPcHccZvhuWlar5Oy6vmMbkI3Wcl3diZsNoSStaBYfG0hgOiDGCQOgIBHcUQcvuYjje3xxQmqx5ChhW2XR3GyZEyCWq6k9g2DM4CQTmMnlYD0JD3bO6zwtwbx/hOB+EcBEzKVa2Nxk1TKw18gHSOtBkDYZ4SJ2f3QDZgGF7Rt2zGehHdkQcztcPcZWcq2y/I5djPL6QfyZDu2ureTNbYPI1/KCXgnoNg7LfHZ0shhe0Q0sTV7/ACL6sde9HYMF0G2yYzg1ZOYzRh4EXMCHPd1LdtPXXWUQcybguOzxJJkZL998J4grujibdDY247yOJswMYcG7M7ZCAASObY0D0k+xfhy3wnwa3CXa9+KavPLt9i+bLJQ6V7g6Mue4gaI2CGne9j0q9IgIiICIiAiIgIiIP//Z)"
      ]
    },
    {
      "cell_type": "markdown",
      "metadata": {
        "id": "DEcXB2fsGfCO"
      },
      "source": [
        "Example:Python IF ELIF ELSE Statement"
      ]
    },
    {
      "cell_type": "code",
      "metadata": {
        "colab": {
          "base_uri": "https://localhost:8080/"
        },
        "id": "o1CHjzoZGkay",
        "outputId": "2474d065-3d3b-44c1-c32e-585609e3546b"
      },
      "source": [
        "# Program disusun untuk mengecek apakah angka merupakan bilangan positif, negatif atau nol\n",
        "# dan menampilkan tulisan yang sesuai\n",
        "\n",
        "angka = 3.4\n",
        "\n",
        "if angka > 0:\n",
        "  print(\"Bilangan Positif\")\n",
        "elif angka == 0:\n",
        "  print(\"Nol\")\n",
        "else: \n",
        "  print(\"Bilangan Negatif\")"
      ],
      "execution_count": 10,
      "outputs": [
        {
          "output_type": "stream",
          "name": "stdout",
          "text": [
            "Bilangan Positif\n"
          ]
        }
      ]
    },
    {
      "cell_type": "code",
      "metadata": {
        "colab": {
          "base_uri": "https://localhost:8080/"
        },
        "id": "SaeASu2oHIji",
        "outputId": "318b68de-ce2c-435b-9b4c-4391177e6c8b"
      },
      "source": [
        "# Statement if\n",
        "x = 4\n",
        "if x % 2 == 0: # jika x habis dibagi 2 sisanya samadengan 0\n",
        "   print(\"x habis dibagi dua\")\n",
        "\n",
        "# Statement if ... elif ... else\n",
        "x = 7\n",
        "if x % 2 == 0: # jika x habis dibagi 2 sisanya samadengan 0\n",
        "   print(\"x habis dibagi dua\")\n",
        "elif x % 3 == 0: # jika x habis dibagi 3 sisanya samadengan 0\n",
        "  print(\"x habis dibagi tiga\")\n",
        "elif x % 5 == 0: # jika x habis dibagi 5 sisanya samadengan 0\n",
        "  print(\"x habis dibagi 5\")\n",
        "else:\n",
        "  print(\"x tidak habis dibagi dua, tiga ataupun lima\")"
      ],
      "execution_count": null,
      "outputs": [
        {
          "output_type": "stream",
          "name": "stdout",
          "text": [
            "x habis dibagi dua\n",
            "x tidak habis dibagi dua, tiga ataupun lima\n"
          ]
        }
      ]
    },
    {
      "cell_type": "markdown",
      "metadata": {
        "id": "jUM5Zv_SIasw"
      },
      "source": [
        "# Python Nested IF statement"
      ]
    },
    {
      "cell_type": "markdown",
      "metadata": {
        "id": "okyIxNDjIfJO"
      },
      "source": [
        "Example: Python NESTED IF Statement"
      ]
    },
    {
      "cell_type": "code",
      "metadata": {
        "colab": {
          "base_uri": "https://localhost:8080/"
        },
        "id": "5cMc46wKIlI5",
        "outputId": "fa2bc6f1-8d3d-481c-ba6f-6063017ebc37"
      },
      "source": [
        "# Program disusun untuk megecek apakah angka merupakan bilangan positif, negtaif atau nol\n",
        "# dan menampilkan tulisan yang sesuai\n",
        "\n",
        "angka = float(input(\"Masukkan angka: \"))\n",
        "if angka >= 0:\n",
        "  if angka == 0:\n",
        "    print(\"Nol\")\n",
        "  else:\n",
        "    print(\"Bilangan Positif\")\n",
        "else:\n",
        "  print(\"Bilangan Negatif\")"
      ],
      "execution_count": 9,
      "outputs": [
        {
          "output_type": "stream",
          "name": "stdout",
          "text": [
            "Masukkan angka: 4\n",
            "Bilangan Positif\n"
          ]
        }
      ]
    },
    {
      "cell_type": "markdown",
      "metadata": {
        "id": "Pt1HhEfrJUsJ"
      },
      "source": [
        "# Latihan"
      ]
    },
    {
      "cell_type": "markdown",
      "metadata": {
        "id": "LydzsdifJXBq"
      },
      "source": [
        "Buatlah sebuah fungsi \"Mahal_Diskon\" dengan ketentuan:\n",
        "\n",
        "\n",
        "*   Input berupa data harga produk dengan tipe data numerik Tunggal\n",
        "*   Kategori Input adalah \"Murah\" dan \"Mahal\", kemudian diskon ada 3 kategori \"10%\", \"20%\", dan \"40%\"\n",
        "* Output Pertama sebuah teks/string yang menyatakan \"Mahal\" atau \"Murah\" dan Keterangan \"Kamu Dapat Diskon...\"\n",
        "* Output kedua adalah harga yang perlu dibayarkan\n"
      ]
    },
    {
      "cell_type": "code",
      "metadata": {
        "id": "GVTdIx66KQ7P",
        "colab": {
          "base_uri": "https://localhost:8080/"
        },
        "outputId": "c178c46f-154a-45b1-e8e6-8b68e1e8cd3f"
      },
      "source": [
        "Harga_Produk = int(input(\"Harga produk Rp\"))\n",
        "\n",
        "bayar = Harga_Produk\n",
        "\n",
        "if Harga_Produk > 100000:\n",
        "  if Harga_Produk < 200000:\n",
        "    print(\"Mahal\")\n",
        "    print(\"Kamu dapat diskon 20%\")\n",
        "\n",
        "    diskon = Harga_Produk * 20/100 \n",
        "    bayar = Harga_Produk - diskon\n",
        "  else:\n",
        "    print(\"Mahal\")\n",
        "    print(\"Kamu dapat diskon 40%\")\n",
        "\n",
        "    diskon = Harga_Produk * 40/100\n",
        "    bayar = Harga_Produk - diskon\n",
        "else:\n",
        "  print(\"Murah\")\n",
        "  print(\"Kamu dapat diskon 10%\")\n",
        "\n",
        "  diskon = Harga_Produk * 10/100\n",
        "  bayar = Harga_Produk - diskon\n",
        "\n",
        "print(\"Total yang harus dibayar : Rp %s\" % bayar)"
      ],
      "execution_count": 16,
      "outputs": [
        {
          "output_type": "stream",
          "name": "stdout",
          "text": [
            "Harga produk Rp300000\n",
            "Mahal\n",
            "Kamu dapat diskon 40%\n",
            "Total yang harus dibayar : Rp 180000.0\n"
          ]
        }
      ]
    },
    {
      "cell_type": "code",
      "metadata": {
        "id": "VIhkI_3nPI7K"
      },
      "source": [
        ""
      ],
      "execution_count": null,
      "outputs": []
    }
  ]
}